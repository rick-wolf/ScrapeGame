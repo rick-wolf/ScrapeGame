{
 "cells": [
  {
   "cell_type": "code",
   "execution_count": 1,
   "metadata": {
    "collapsed": false
   },
   "outputs": [],
   "source": [
    "import urllib.request\n",
    "from bs4 import BeautifulSoup\n",
    "import pandas as pd\n",
    "import numpy as np\n",
    "from datetime import datetime"
   ]
  },
  {
   "cell_type": "code",
   "execution_count": 2,
   "metadata": {
    "collapsed": false
   },
   "outputs": [],
   "source": [
    "user_agent = 'Mozilla/5.0 (Windows; U; Windows NT 5.1; en-US; rv:1.9.0.7) Gecko/2009021910 Firefox/3.0.7'\n",
    "url = \"http://www.metacritic.com/game/pc/dishonored-2/user-reviews\"\n",
    "headers={'User-Agent':user_agent,} \n",
    "\n",
    "request = urllib.request.Request(url,None,headers) #The assembled request\n",
    "data = urllib.request.urlopen(request).read()"
   ]
  },
  {
   "cell_type": "code",
   "execution_count": 4,
   "metadata": {
    "collapsed": false
   },
   "outputs": [],
   "source": [
    "soup = BeautifulSoup(data,\"lxml\")\n",
    "#print(soup.prettify()[50000:100000])"
   ]
  },
  {
   "cell_type": "markdown",
   "metadata": {},
   "source": [
    "Stuff of interest: <br>\n",
    "div class=\"review_body\" - the full review is here <br>\n",
    "span class=\"blurb blurb_expanded\" - if the review is long, the full review is here <br>\n",
    "div class=\"review_grade\" - 1-5 <br>\n",
    "div class=\"date\" - date of rating <br>\n",
    "div class=\"name\" - rater's name <br>"
   ]
  },
  {
   "cell_type": "code",
   "execution_count": 5,
   "metadata": {
    "collapsed": true
   },
   "outputs": [],
   "source": [
    "# get all the data associated with each review, where each element is a diff review\n",
    "reviews = soup.findAll('li', attrs={'class': 'review user_review'})"
   ]
  },
  {
   "cell_type": "code",
   "execution_count": 5,
   "metadata": {
    "collapsed": false
   },
   "outputs": [
    {
     "data": {
      "text/plain": [
       "<li class=\"review user_review\" id=\"user_review_6803714\">\n",
       "<div class=\"review_btm review_btm_r\"><div class=\"review_btm review_btm_l\"><div class=\"review_top review_top_r\"><div class=\"review_top review_top_l\">\n",
       "<div class=\"review_content\">\n",
       "<div class=\"review_section\">\n",
       "<div class=\"review_stats\">\n",
       "<div class=\"review_critic\">\n",
       "<div class=\"name\">\n",
       "<a href=\"/user/GoldieFoxx\">GoldieFoxx</a>\n",
       "</div>\n",
       "<div class=\"date\">Nov 10, 2016</div>\n",
       "</div>\n",
       "<div class=\"review_grade\">\n",
       "<div class=\"metascore_w user medium game mixed indiv\">5</div>\n",
       "</div>\n",
       "</div>\n",
       "<div class=\"review_body\">\n",
       "<span class=\"inline_expand_collapse inline_collapsed\" id=\"review_blurb_6803714\"><span class=\"blurb blurb_collapsed\">This game gives me very mixed feelings. The story, graphics and gameplay are all fantastic and a great step up from the original.\n",
       "<br/> <br/>It has a fantastic feel to it and if you enjoyed the original you will certainly enjoy this one.\n",
       "If that was it, I would have easily given this a 9/10\n",
       "\n",
       "BUT\n",
       "\n",
       "There are so many things dragging it down right now. On PC anyway\n",
       "\n",
       "-Optimisation is terrible,</span><span class=\"blurb blurb_expanded\">This game gives me very mixed feelings. The story, graphics and gameplay are all fantastic and a great step up from the original.\n",
       "<br/> <br/>It has a fantastic feel to it and if you enjoyed the original you will certainly enjoy this one.\n",
       "<br/>If that was it, I would have easily given this a 9/10\n",
       "<br/> <br/>BUT\n",
       "<br/> <br/>There are so many things dragging it down right now. On PC anyway\n",
       "<br/> <br/>-Optimisation is terrible, with an i7 and GTX 1080, at 1080p im struggling to even maintain a 50-60fps framerate on ultra settings, with anti-aliasing at TXAA 1x\n",
       "<br/> <br/>-Mouse sensitivity is tied to FPS, so it is extremely hard to aim, especially with how jumpy and unpredictable the FPS is currently.\n",
       "<br/> <br/>-Pre-order bonuses. For most this doesnt matter, but trying desperately to tempt people into pre-ordering is always a bad sign in my opinion. And in this case it seems like they were doing it because they knew reviews would be mixed with its current state.\n",
       "<br/> <br/>Overall, a very good and exciting game and a fantastic sequel to the original. But the port and optimisation need some serious work. i would not consider this game 'finished'</span><span class=\"blurb_etc\">…</span> <a class=\"toggle_expand_collapse toggle_expand\" href=\"/game/pc/dishonored-2/user-reviews?user_review_id=6803714\" rel=\"nofollow\">Expand</a></span>\n",
       "</div>\n",
       "</div>\n",
       "<div class=\"review_section review_actions \">\n",
       "<ul class=\"review_actions\">\n",
       "<li class=\"review_action review_helpful\">\n",
       "<div class=\"review_helpful\">\n",
       "<div class=\"rating_thumbs\">\n",
       "<div class=\"helpful_summary thumb_count\">\n",
       "<a href=\"https://secure.metacritic.com/login\">\n",
       "<span class=\"total_ups\">23</span>\n",
       "\t\t\t\tof \n",
       "\t\t\t\t<span class=\"total_thumbs\">31</span>\n",
       "\t\t\t\tusers found this helpful\n",
       "                </a>\n",
       "</div>\n",
       "<div style=\"clear:both;\"></div>\n",
       "</div>\n",
       "</div>\n",
       "</li>\n",
       "<li class=\"review_action\">\n",
       "<a href=\"/user/GoldieFoxx\">All this user's reviews</a>\n",
       "</li>\n",
       "</ul>\n",
       "</div>\n",
       "</div>\n",
       "</div></div></div></div>\n",
       "</li>"
      ]
     },
     "execution_count": 5,
     "metadata": {},
     "output_type": "execute_result"
    }
   ],
   "source": [
    "# an example of a review where the text is in \"span class=blurb blurb_expanded\"\n",
    "reviews[0]"
   ]
  },
  {
   "cell_type": "markdown",
   "metadata": {},
   "source": [
    "**Note:** Not all of the review divs have a blurb, so need to loop through each review and individually retrieve data for that row of the upcoming DB. This will make sure everything aligns nicely (e.g., user corresponds to who actually wrote the review\")"
   ]
  },
  {
   "cell_type": "code",
   "execution_count": 6,
   "metadata": {
    "collapsed": false
   },
   "outputs": [],
   "source": [
    "# TODO: edit the review loop to also reflect the game title\n",
    "\n",
    "review_text = []\n",
    "for pos, review in enumerate(reviews):\n",
    "    \n",
    "    # Reviewer's username\n",
    "    name = review.find('div', attrs={'class':'name'}).get_text().strip()\n",
    "    \n",
    "    # Date of Review\n",
    "    date_text = review.find('div', attrs={'class':'date'}).get_text().strip()\n",
    "    date_obj = datetime.strptime(date_text, '%b %d, %Y').date()\n",
    "    \n",
    "    # Review Grade\n",
    "    grade = int(review.find('div', attrs={'class':'review_grade'}).get_text().strip())\n",
    "    \n",
    "    # Text body of the review, handling the 2 types of cases you can encounter\n",
    "    rt = review.find('span', attrs={'class': 'blurb blurb_expanded'})\n",
    "    if rt == None:\n",
    "        rt = review.find('span')\n",
    "    rt = rt.get_text()\n",
    "    review_text.append((pos, name, date_obj, grade, rt))"
   ]
  },
  {
   "cell_type": "code",
   "execution_count": 7,
   "metadata": {
    "collapsed": false
   },
   "outputs": [
    {
     "data": {
      "text/plain": [
       "<li class=\"review user_review\" id=\"user_review_6804977\">\n",
       "<div class=\"review_btm review_btm_r\"><div class=\"review_btm review_btm_l\"><div class=\"review_top review_top_r\"><div class=\"review_top review_top_l\">\n",
       "<div class=\"review_content\">\n",
       "<div class=\"review_section\">\n",
       "<div class=\"review_stats\">\n",
       "<div class=\"review_critic\">\n",
       "<div class=\"name\">\n",
       "<a href=\"/user/eldumloido\">eldumloido</a>\n",
       "</div>\n",
       "<div class=\"date\">Nov 11, 2016</div>\n",
       "</div>\n",
       "<div class=\"review_grade\">\n",
       "<div class=\"metascore_w user medium game negative indiv\">3</div>\n",
       "</div>\n",
       "</div>\n",
       "<div class=\"review_body\">\n",
       "<span>Bad optimization. Getting headache from all the stuttering so can't really play the game. i7 6700k, gtx 1080, 32gb ram, samsung 950 pro ssd and running at 1080p at 60fps is not possible. This is why they wont give review copies anymore.</span>\n",
       "</div>\n",
       "</div>\n",
       "<div class=\"review_section review_actions \">\n",
       "<ul class=\"review_actions\">\n",
       "<li class=\"review_action review_helpful\">\n",
       "<div class=\"review_helpful\">\n",
       "<div class=\"rating_thumbs\">\n",
       "<div class=\"helpful_summary thumb_count\">\n",
       "<a href=\"https://secure.metacritic.com/login\">\n",
       "<span class=\"total_ups\">18</span>\n",
       "\t\t\t\tof \n",
       "\t\t\t\t<span class=\"total_thumbs\">27</span>\n",
       "\t\t\t\tusers found this helpful\n",
       "                </a>\n",
       "</div>\n",
       "<div style=\"clear:both;\"></div>\n",
       "</div>\n",
       "</div>\n",
       "</li>\n",
       "<li class=\"review_action\">\n",
       "<a href=\"/user/eldumloido\">All this user's reviews</a>\n",
       "</li>\n",
       "</ul>\n",
       "</div>\n",
       "</div>\n",
       "</div></div></div></div>\n",
       "</li>"
      ]
     },
     "execution_count": 7,
     "metadata": {},
     "output_type": "execute_result"
    }
   ],
   "source": [
    "reviews[4]"
   ]
  },
  {
   "cell_type": "code",
   "execution_count": 34,
   "metadata": {
    "collapsed": false
   },
   "outputs": [
    {
     "data": {
      "text/plain": [
       "[(0,\n",
       "  'GoldieFoxx',\n",
       "  datetime.date(2016, 11, 10),\n",
       "  5,\n",
       "  \"This game gives me very mixed feelings. The story, graphics and gameplay are all fantastic and a great step up from the original.\\r It has a fantastic feel to it and if you enjoyed the original you will certainly enjoy this one.\\rIf that was it, I would have easily given this a 9/10\\r BUT\\r There are so many things dragging it down right now. On PC anyway\\r -Optimisation is terrible, with an i7 and GTX 1080, at 1080p im struggling to even maintain a 50-60fps framerate on ultra settings, with anti-aliasing at TXAA 1x\\r -Mouse sensitivity is tied to FPS, so it is extremely hard to aim, especially with how jumpy and unpredictable the FPS is currently.\\r -Pre-order bonuses. For most this doesnt matter, but trying desperately to tempt people into pre-ordering is always a bad sign in my opinion. And in this case it seems like they were doing it because they knew reviews would be mixed with its current state.\\r Overall, a very good and exciting game and a fantastic sequel to the original. But the port and optimisation need some serious work. i would not consider this game 'finished'\"),\n",
       " (1,\n",
       "  'BenDee',\n",
       "  datetime.date(2016, 11, 12),\n",
       "  1,\n",
       "  'Technically very bad. Many people report crashes and bad stuttered framerates, while others seem to be fine. BTW, we don\\'t need users to tell us it works for them. \"Working\" is the default expectation. Post information we don\\'t know, like a fix. Someone should.\\r This could not have been a surprise. Any testers would have logged these problems 2 mins into the game. If these problems are fixable in a few weeks like the devs hope, then the game could have been release in a few weeks. They gambled that they\\'d get worse press if they postponed. I\\'m calling it a bad bet.\\r My GAMEPLAY review is of course limited to a couple of hours, but there doesn\\'t seem to be anything new in the story or game mechanics. It feels like new maps for the original game.'),\n",
       " (2,\n",
       "  'alilsneaky',\n",
       "  datetime.date(2016, 11, 16),\n",
       "  1,\n",
       "  \"Completely broken port. Drops below 30 fps on the highest end hardware. The game also has really bad mouse controls they messed them up hard (smoothing forced on, and mouse sensitivity is tied to framerate)\\r Dishonored 1 ran at 100 fps on hardware from 2010 and worked beautifully with no control issues. Go play that if you want to play a dishonored game.\\r Maybe some day they'll patch this into a working game, but now it's not worth any money.\"),\n",
       " (3,\n",
       "  'Jinx',\n",
       "  datetime.date(2016, 11, 16),\n",
       "  1,\n",
       "  \"Game is in a broken state, something the reviewers (who probably have very expensive rigs) are ignoring. If you have anything less than a 1080 forget it. It's disgusting that it was launched in this state, it's worse than Arkham Knight.\"),\n",
       " (4,\n",
       "  'eldumloido',\n",
       "  datetime.date(2016, 11, 11),\n",
       "  3,\n",
       "  \"Bad optimization. Getting headache from all the stuttering so can't really play the game. i7 6700k, gtx 1080, 32gb ram, samsung 950 pro ssd and running at 1080p at 60fps is not possible. This is why they wont give review copies anymore.\"),\n",
       " (5,\n",
       "  'phj1986',\n",
       "  datetime.date(2016, 11, 11),\n",
       "  3,\n",
       "  'Poor performance unfortunately! Inclined to return game as will not perform well on 980ti sli 6600k normal high end PC. Do not recommend this game on PC at all. i recommend the inferior yet playable console version. This is far to poor of a game port to play in its current state. Embarrassing when juxtaposed to Doom. Developers SHOULD be embarrassed by this horrible stigma it has now ascertained.'),\n",
       " (6,\n",
       "  'Danceswithsheep',\n",
       "  datetime.date(2016, 11, 10),\n",
       "  1,\n",
       "  \"You can see why they didn't want early reviews released of this game, it is really badly optomised for the PC. I'm not even sure it supports SLI because the fps drops are insane. Leave well alone for now and hopefully it will get fixed.\"),\n",
       " (7,\n",
       "  'psychobudgie',\n",
       "  datetime.date(2016, 11, 10),\n",
       "  4,\n",
       "  \"Playing on an overclocked AMD 8320 @ 4.2ghz with a GTX 1060 6gb with 16gb of RAM and the game runs like a dog. Frame rates are all over the place, ranging from +80fps down to 20fps and lower with constant judder and a general unease which makes extended plays nauseating.. Changing visual settings has limited or no effect. Have had a couple of D3D crashes also which just adds to the problems. Have no idea what is going on as I'm sure there is a great game under it all but it is impossible to experience it in its current state. Really, really disappointed and cannot recommend it in it's current state.  on the PC. Almost on a par with the Batman AK fiasco.\"),\n",
       " (8,\n",
       "  'blue_sparrow',\n",
       "  datetime.date(2016, 11, 16),\n",
       "  1,\n",
       "  'Never going to buy a game with Denuvo.\\r My money, my game\\rMy money, my game\\rMy money, my game\\rMy money, my game\\rMy money, my game\\rMy money, my game\\rMy money, my game'),\n",
       " (9,\n",
       "  'AzureSkies',\n",
       "  datetime.date(2016, 11, 10),\n",
       "  10,\n",
       "  \"Release bugs aside, this game is gorgeous, visually, thematically, and viscerally. Somehow an upgrade in every way from the perfection that was the first game. Lives up to and surpasses all hype. I'm really not sure what else to do or say besides give it a perfect 10. W-o-w.\"),\n",
       " (10,\n",
       "  'Mandulum',\n",
       "  datetime.date(2017, 2, 1),\n",
       "  9,\n",
       "  'Five Word Review: Slaughter or subdue, both incredible!\\rFavorite Thing: Lots of excellent level design. The clockwork house and time manipulation levels were really excellent.\\rLeast Favorite Thing: Trying to takedown someone sitting in a chair.\\r Playtime: 21h (1st playthrough) 10h (2nd)\\rEnjoyment: 9/10\\rRecommendation: Absolutely.'),\n",
       " (11,\n",
       "  'Braquiador55',\n",
       "  datetime.date(2017, 2, 4),\n",
       "  9,\n",
       "  \"Great game, horrible port. The game is gorgeus, with so many diffrent paths to complete the missions, and so many diffrent powers to unlock and combine, without mentioning that you can now play as Corvo or Emily. It also has two endings for each character. The only problem I see here is the port. The optimazation is nowhere to be found, performance is pretty bad even in high end pc's.\\rBuy it if you have a powerful machine, if not, wait till it's totally fix.\"),\n",
       " (12,\n",
       "  'BrutalJones',\n",
       "  datetime.date(2016, 11, 26),\n",
       "  0,\n",
       "  \"Stay far, far away from this one unless you like wasting money.\\r After just a couple of hours I've been absolutely plagued by freezes and crashes. Not sure what's causing it, but they're pretty frustrating. They occur randomly in-game, but the game also has a bad tendency to crash out of even a menu.\\r Additionally the game runs really poorly on my hardware to begin with. I'm running an i7-4790 with 780ti SLI on an SSD, all my drivers are updated, and I've got patch 1.2 installed and it still runs terribly on even the lowest settings. It's not even so much that I see a low framerate -- Even though I certainly do, I'm averaging about 35 fps overall on medium settings -- It's that the framerate fluctuates wildly for seemingly no reason. For example, I'll play through a certain area and see around 45 fps, then quick reload because I screwed something up, and play through the same exact area averaging 28 fps. It makes no sense. And toggling graphics settings seems to help nothing: I get maybe a 5 fps variance between the lowest settings and putting everything to high. Something is severely wrong with this game, and seeing how broken it is removes almost all of my hope that it'll ever be fixed. From what I understand it even runs poorly on consoles: I've seen many complaints about crashes on the PS4. So maybe this is a Void Engine thing, I dunno. But I sure wish they had just built Dishonored 2 on the Unreal Engine, like Dishonored 1 was.\\r The poor performance and terrible overall stability make this game almost completely unplayable even on super high-end systems: Even people running 1080s are experiencing frame drops and instability, so you can't even brute force your way into hitting a constant, stable 60 fps. As for the crashes, who knows? They could be caused by any number of reasons.\\r All-in-all this is the worst running PC game I've played since Assassin's Creed Unity's release back in 2014. I've heard people say this is as bad as Arkham Knight, though I can't say whether or not that's true since I haven't played that one. I'll update my review should this game ever stabilize, though even that is no guarantee. Once a game releases in this bad of shape it's rare to ever see it run well again.\\r Now we know why Bethesda didn't want to ship review copies to journalists covering the game. Because it barely works. Shame on you Bethesda for such shady business practices, and shame on you for releasing a game with so much potential in such a sorry state.\\r Note: I'll edit this review if it ever manages to run decently, but for now I don't really have anything to comment on aside from its performance since it's nearly unplayable in its current state.\"),\n",
       " (13,\n",
       "  'tigerskin84',\n",
       "  datetime.date(2016, 11, 16),\n",
       "  0,\n",
       "  'Ps3 graphics, broken port, awful performance ,muddy textures even at ultra and the best of all is that you need a monster rig to run this garbage port, and to the idiots saying that is running good on their gtx 1080 and is well optimized, well thats all the contrary...'),\n",
       " (14,\n",
       "  'izazael',\n",
       "  datetime.date(2016, 11, 15),\n",
       "  2,\n",
       "  'The original game felt small and oppressive, but this sequel is vast, sprawling, and lacking that essential dystopian feel of the original. The VO and script seems exceptionally weak. I could probably overlook these complaints if I could get over 18fps in open environments.\\r But I cant.\\r So no.'),\n",
       " (15,\n",
       "  'Ajijic',\n",
       "  datetime.date(2016, 12, 27),\n",
       "  0,\n",
       "  'I have played 15 hours now and of that I\\'ve spent at least 25% of the time re-starting the game because of a f^&%^* CRASH AGAIN!!!!!!\\rUpdate:The only way I can play this game goes like this...... Start game open door *save* walk into room look around *CRASH* re-start game walk around pick up a few things *save* kill some baddies *Save* ****CRASH* re-start game *Crash* Rinse and repeat!\\rI\\'ve submitted a service ticket to Bethesda without any reply. This seems to be the norm as one person has been waiting over 25 days for a response from Bethesda and so far NOTHING!\\rSo by what I gather if your NOT playing on a PC this is a great game! But one PC be ready to save the game after you:\\rEnter a room\\rkill a person\\rfind something\\rgo up the stairs\\rbecause a CRASH is just a few steps away!\\rAfter 21 to 22 hours of gameplay so far I\\'ve crashed over 100 times. Yeh! That\\'s a LOT.\\rI\\'m to the point I don\\'t give a Crap about this game it\\'s nothing but a \"CRASH SIMULATOR!\"'),\n",
       " (16,\n",
       "  '9Jack9',\n",
       "  datetime.date(2017, 1, 18),\n",
       "  1,\n",
       "  \"After an extensive BETA update today (Jan 18, 2017), the optimization is unchanged. It's still unplayable.  Recommended settings are not enough to play it without huge motion-sick inducing framerate drops.\\r I'm not sure there is any way to play through it in this state to appreciate the story that everyone keeps talking about. Nothing this broken should have ever won Game of the Year from any PC gamer magazine.\"),\n",
       " (17,\n",
       "  'Puddleboy112',\n",
       "  datetime.date(2016, 11, 10),\n",
       "  4,\n",
       "  'It is running really really bad on 970 OC and 3,4 GHz cpu like 40-60 fps on normal ultra setting 30-40 fps ,if you compared it to ultra setting on battlefield 1 60-80 fps I really hope it gets better, because it look like a fun game,'),\n",
       " (18,\n",
       "  'Samzig',\n",
       "  datetime.date(2016, 11, 12),\n",
       "  2,\n",
       "  \"At launch this game is pretty much unplayable on PC. It's simply not worth the money, so I'm forced to give this 2/10 until they release a performance patch of some sort.\"),\n",
       " (19,\n",
       "  'Koreenium',\n",
       "  datetime.date(2016, 11, 12),\n",
       "  0,\n",
       "  'Performance is awful which is the biggest problem with this game. Everything else seems to be great and worthy successor of the first Dishonored. Shame. Could be 9/10.'),\n",
       " (20,\n",
       "  'shaoran2',\n",
       "  datetime.date(2016, 11, 15),\n",
       "  0,\n",
       "  'another lost masterpiece Unfortunately all the games lately that use this Denuvo DRM, have serious problems of performance The game is great but It is unplayable on pc.'),\n",
       " (21,\n",
       "  'HammerOfTheMist',\n",
       "  datetime.date(2016, 11, 15),\n",
       "  6,\n",
       "  'I played the original Dishonored and loved it – even played through a second time to get the low chaos ending. Bought the DLCs and loved them. So I’m coming into Dishonored 2 with high expectations. And I’m feeling let down. Here are my thoughts, in no particular order:\\r •\\tFirst off, I’m playing on a Windows 10 machine with a Core i5 and a GTX-970. I’m through chapter 6 and I’ve had one crash and noticed a few minor graphic anomalies like walking around a corner and seeing a wall appear, but that’s it. Nothing that really impacts playability.\\r •\\tI’m playing as Emily (as I’m guessing many are since we played as Corvo in the first game). I’m not enthralled with her powers. Outside of her Far Reach, Dark Vision, and Domino, I’m not using much. I’ve done the Shadow Walk once or twice, but I probably could have accomplished the goal with Far Reach as well (and the animation when you knock someone out with Shadow Walk power is just freaky – as in make me cringe freaky).\\r •\\tI’m going for low chaos, so all the powers about killing and more health, strength and shadow kill are wasted on me.\\r •\\tThe world feels empty. Yes, there are now people on the streets in some places, but they don’t really do anything – they just stand there and shadow box or saw wood. In fact I find it annoying because I can’t tell who is an innocent and who will try to attack me until I interact with them.\\r •\\tI hate the hub – the Dreadful Whale. D1 had the Hound Pits pub, which 1) had several people around that gave the place a sense of life, and 2) was a great playground to try out abilities. I could practice blink-racing across the area, or see how high I could climb and get a good feel for how to manipulate my powers. I’ve tried a few times to get to the top of the mast and stand on the little platform up there but I fail every time. Bummer. I also enjoyed the rivalry between Piero and Sokolov in D1 and watching that play out, but I haven’t found any “life” like that in this game.\\r •\\t*** SPOILERS **** There are some collectables that seem really oddly placed. In D1 I recall that there were multiple paths to get anywhere. In D2, for example there is this rune in the basement of the Asylum that you can only get to by taking the elevator to the top and then cutting the cables to send it crashing into the basement – neither obvious nor stealthy. There is another one in a locked room in the basement of the Conservatory that you need to find a key for. In D1 I’d expect a rat-tunnel or window transom as an alternate path.\\r •\\tHate the new Dark Vision. With the orange on orange is really hard to see what’s what. D1 did this much better.\\r •\\tFinicky Controls – Far Reach and it’s pull are really hard to aim right. There seems to be a really small window when aiming that will get you “up” on something. As an example, I was working my way across the Conservatory level and ended up on the spinning light tower in the middle. I could see the balcony I wanted to get to. I walked out on the end of the “gangplank” and as the tower was spinning there was a small window of time where I was close enough to make the leap. But I could never get the aim right. After about 10 failures I gave up and found an alternate path.\\r •\\tLack of feedback when your actions affect the world. As an example, there is one area that requires you to walk across pressure plates to move some walls. I was seeing the walls moving but had no idea I was making it happen. It took some research online to understand what was happening. After I knew that, looking down at my “feet” (which aren’t really there) I could see the plate depress when I “step” on it, but if I’m not looking at the floor I never would have seen that. An audible click would have helped immensely to let me know at I just did something.\\r •\\tOverall feeling of sadness. In D1 I was Corvo, wrongly accused of murdering the Empress and thrown in jail, only to escape and work with a band of crusaders to overthrow those responsible. In D2 I’m Emily, my throne has been usurped and I’ve been thrown in my room, only to escape and … slink off to another city to try to uncover the backstory of my usurper, all the while spending my down time in a rusty stinky hulk of a ship.\\r There are more things that bug me, but that’s enough to give you a feel for it. In the end I’ll finish the game to see how the story plays out, and then shelve it. Very doubtful I’ll replay it or get any DLCs if they come out.'),\n",
       " (22,\n",
       "  'Nirantali',\n",
       "  datetime.date(2016, 11, 13),\n",
       "  1,\n",
       "  \"First Issues started with the Game not even launching anymore after it launched just fine after the install. After fixing this Issue by completely wiping the Config experienced the worst microstuttering i ever experienced in a Game on all Settings no matter if i set all very low or all very high.\\r And that at 1080p with an i7-4790k and GTX1070 is simply not acceptable. I may revise the Score and Review if they quickly release a Patch that at least fix the microstuttering and i really hope it's not an unfixable Issue with their modded idTech5 Engine.\\r They really should have upgraded their UE3 to UE4 instead using a such **** Engine, i really wonder what got into them. It's the also first Time i even considered a refund.\"),\n",
       " (23,\n",
       "  'jacobsmith14433',\n",
       "  datetime.date(2016, 11, 19),\n",
       "  0,\n",
       "  \"When you spend £2,500 on a pc you expect to be able to have smooth sailing when it comes to running new releases. Now I could forgive Arkane studios for not optimising the game to run on duel graphics card setups, as quite often new games do no support crossfire. So after being relegated to my second choice of resolution of 1440p, I expect normally 60fps with a few drops here and there. But to drop below 20fps has led me to create a new metacritic account just to be another one of those users who score a game 0. Normally I get frustrated at 0 scores as they aren't really rating the game but the optimisation. But even when dropping the game to 1080p these drops occurred. I did not spend ten times more than a ps4 to see it run worse. Luckily steam refunded that purchase and I will pick it up in a sale down the line when it is fixed. I will re-review the game then\"),\n",
       " (24,\n",
       "  'firestorm2yk',\n",
       "  datetime.date(2016, 11, 12),\n",
       "  0,\n",
       "  \"4700k @ 4.5ghz, 16gb ram and 390x and get 18 fps on high graphics settings in the throne room. Couldn't get past that room as frame rate was all over the place.\\r I can play Dying Light, Call Of Duty Infinite Warfare, Dragon Age Inquisition and GTA V at max graphics settings with no problem.\\r Loved the original Dishonoured, but will not be pre-ordering a Bethesda game again.\\r There is no way the QA team didn't see this issue before release and Bethesda deliberately withheld review copies because of it.\\r Shame on you Bethesda! Will be seeking a refund until you fix this game.\"),\n",
       " (25,\n",
       "  'azot360',\n",
       "  datetime.date(2016, 11, 13),\n",
       "  0,\n",
       "  'Этот кусок продают за 2к рублей с защитой Denuvo из за которой никто не узнает во что он играет'),\n",
       " (26,\n",
       "  'r3tr0',\n",
       "  datetime.date(2016, 11, 19),\n",
       "  7,\n",
       "  \"So what do you score a game on,, the game or weather it has technical issues?\\r For me I get seemingly great performance from my aging 980ti on an i5 with 16 gig o' ram  (1440p 90% Ultra 10% High) im getting an average 70fps hi min 45fps, but I have got to the 5th segment of the game and the 70 fps mouse judder (pre render set to 1) has made it un-playable, to distracted thinking there is something wrong to enjoy.\\r If the tech issues get sorted then - great story, good graphices, nice challenge (Hard) rating would be 87%.\"),\n",
       " (27,\n",
       "  'Val-835',\n",
       "  datetime.date(2016, 11, 20),\n",
       "  3,\n",
       "  \"I have never seen a port so broken. I have a pretty good system ( i5, RX390, 16GB RAM ) and I can hardly get 40-45 fps on medium settings. Last night I was dumb enough to download the beta patch from Steam. Get this, it took 3 hours and the patch was 32.5 GB!!!. That's almost the full game. The patch was worthless, I did not see any improvements. Now, going back to the original game ( uninstalling the patch ) will require another 24.5 GB download. How is that for a f***** up game. Bethesda now says they have another patch in the works for next week. I ain't holding my breath.\\rThe only reason I give this game a 3 is for graphics, game play and story which are OK.\\rWay to go Bethesda.\"),\n",
       " (28,\n",
       "  'sscott0829tw',\n",
       "  datetime.date(2016, 11, 10),\n",
       "  7,\n",
       "  \"I love the first dishonored,it's one of the best stealth game I've ever played.\\rThe second one improved on that strong formula,and give us a bigger environment  to explore,\\rmore skills and tools to mess around with.The characters are well written,the story is great and the gameplay\\ris freaking awesome.This is suppose to be an eight out of ten game.But I take one point away because of it's\\roptimize problems and bugs on PC.\"),\n",
       " (29,\n",
       "  'dreadcannibal',\n",
       "  datetime.date(2016, 11, 10),\n",
       "  0,\n",
       "  \"I preordered this game since I had faith in arkane studios after playing the first dishonored game.\\rwell, guess what? the game is unplayable on pc. you wont be able to enjoy it because of technical issues since this game is not designed for pc.\\r The game is unplayable at it's current state on pc. therefore 0/10.\\rAvoid.\"),\n",
       " (30,\n",
       "  'E71',\n",
       "  datetime.date(2016, 11, 15),\n",
       "  0,\n",
       "  \"It's laced with Sony's rootkit successor: Denuvo. Enough said ........................................................................................\"),\n",
       " (31,\n",
       "  'bikkers',\n",
       "  datetime.date(2016, 11, 18),\n",
       "  8,\n",
       "  'Pros\\r- Excellent level design\\r- soild story\\r- fluid combat\\r- functional stealth\\r Cons\\r- Horrendous optimization. (2 gtx 1080s will still buckle)\\r- Graphics range from beautiful to ugly which makes the ugly parts very noticeable\\r- Quite a short story (around 9 hours)\\r- Bonecharms are largely a waste of time\\r- There arent many interesting powers\\r Overall its a great game being held back but yet another half arsed Port'),\n",
       " (32,\n",
       "  'Tomixleblase',\n",
       "  datetime.date(2016, 12, 15),\n",
       "  1,\n",
       "  \"Pros: 1- the universe is great, love that steam punk industrial feeling\\r2- it's short, I mean really short (12 hours of gaming, on medium setting) and i'm glad it was short    because the story is the only interesting part of the game\\r cons: 1- you can not restart the whole level, you have to rely on saved games, this would not be a problem if the game was not filled with glitches (point 2)\\r2- it's filled with glitches\\r3- combat is way to simple, just do a good counterstrike and you can kill anything\\r4- graphics are crap (all settings on ultra, it looks like you are playing on xbox 360)\\r Overall, I have not enjoied this game, I only finished it because i cant stand leaving stuff undone, but I skipped the final cut scene, uninstalled the game, created a metacritic account so that others might avoid this crap game\"),\n",
       " (33,\n",
       "  'ExpertPL',\n",
       "  datetime.date(2016, 12, 28),\n",
       "  6,\n",
       "  \"I am giving low score as many of the players were (maybe still are) encountering many bugs and technical issues, this game in terms of optimisation is a disaster, but I won't lie, the rest of the game I am not fond of either.\\r I wasn't a fan of first Dishonored so I wasn't expecting much of it's successor. I play games from literally every genre and I am enjoying them, but Dishonored is this kind of game that doesn't do it for me. In my opinion the plot is not interesting and the steampunk setting is very odd in this game, but I can understand that others can enjoy it, that's why I have to say that if you liked Dishonored, Dishonored 2 you'll probably like as well.\\r What I can say is that the graphics and audio are really good, I wasn't expecting them to be on such a high level.\"),\n",
       " (34,\n",
       "  'CarpeSangrea',\n",
       "  datetime.date(2017, 1, 17),\n",
       "  2,\n",
       "  'Enough people have complained about the technical issues, so I won\\'t bother.  The actual gameplay and some of the new abilities are fun.  The writing and story composition on the other hand, is absolutely terrible.\\r The main character can\\'t seem to shake the uncontrollable urge to spout endless exposition at every opportunity...this not only destroys immersion(I don\\'t need to hear about how my character feels when killing a guard), but often divulges information that you as the PC couldn\\'t possibly know at that point in the story.\\r All the characters felt really flat, as if they had no connection to eachother or anything else anywhere in the game.  God help me most of the time they actually sounded bored.\\r All the individual story elements felt like badly composed episodes of a procedural TV show, w/o even having the benefit of the overall narrative to pull everything together.\\r Then there\\'s the main city of this installment...Karnaca.  Supposedly being oppressed by the duke, it instead felt like I was visiting a European Villa.  Everything looked way too sunny and bright, and served rather poorly to deliver what I can only assume is the intended theme.  The bloodflies felt really forced, as if they were just thrown in to give the player \"fodder\" to deal with.\\r tl;dr--With the exception of the actual gameplay itself, Dishonored 2 is the polar opposite of the first game in almost every way.  Even if you are a die-hard fan of the original I would wait for a sale.'),\n",
       " (35,\n",
       "  'xZippy',\n",
       "  datetime.date(2017, 1, 26),\n",
       "  8,\n",
       "  \"Yes, I'm just gonna get this part out of the way and say the game runs like liquefied garbage on PC like most people here say. Downing the settings and even upgrading my +$1000 PC didn't seem to do anything, so the optimization is quite poop-grade. This can even mess up the combat sometimes.\\r Now, onto the positives. Not exactly a mesmerizing 10/10 game, but a damn good one that beats the original. With a high fun factor and high replayability, this game is worth every penny. Somewhat like (but better than) the original, the story isn't perfect and the characters aren't always as intriguing as they should be, though your interest will still be kept the whole way through. Regardless of story, you get a lot more powers and such to play with, blasting up the aforementioned high fun factor.\\r This game is good and the developers should feel good. Aside from the optimization stuff...\"),\n",
       " (36,\n",
       "  'lifeleak',\n",
       "  datetime.date(2016, 11, 12),\n",
       "  0,\n",
       "  'Беседка всегда радовала меня скайримами, морровиндами, дисхонорадоми, фаллаутами. Я считал их на уровне Rockstar, что не важно сколько они будут делать продукт, он получится идеальным. Но видимо, всё меняется.'),\n",
       " (37,\n",
       "  'martindn',\n",
       "  datetime.date(2016, 11, 12),\n",
       "  8,\n",
       "  \"The performance isn't horrendously bad for me but its not acceptable. It is a nice looking game in spots, but it doesn't justify how it runs. Im using a  480 nitro + and a 4690k and can only just keep a stable 60 on medium/high about 80% of the time. And thats with adaptive resolution at 75% and FXAA so it looks like **** Usually looking out into the city causes drops into the 30's but its not a frequent occurrence, and this may just be on AMD but the throne room at the beginning was at 15fps...yeah almost made me quit.\\r Its quite a big improvement over the first game though, bigger more open areas to explore (i have been on mission 2 for 5 and half hours just looking around and looting), far more ways, items and powers to take down enemies if you are playing low chaos stealth only, just as many new really cool kill animations and dismemberment if you are not, lots of lore in books and notes to explore.\\r If you are in any way interested in the formula of a Bioshock or the first dishonored game then buy it. You can patch issues with performance (definitely wait for this to happen if you have anything less than me) but you cant patch a bad game and this will likely be my GOTY.\"),\n",
       " (38,\n",
       "  'kwadiava',\n",
       "  datetime.date(2016, 11, 13),\n",
       "  9,\n",
       "  \"Dishonored 2 is great in any way except ending(s) but this could be a subjective thought. I want to say that gameplay is greatly improved and there is plenty ways to pass levels with stealth and clean hands also there is plenty ways to murder your enemies. New skills are enjoyable, level design is way too good and puzzles are excellent. The game itself offers many things to do. Graphics are probably worse than many Triple A games such as like Deus Ex, Witcher or MGS but they obviously are not the worst and I didn't have any problems with Dishonored 2's visuals (except some animation problems) or I haven't faced with any bugs yet.\\r The worst thing about the game is probably the ending and differences between Emily and Corvo (at least for me.) Dishonored's endings were astonishing and touching even the High Chaos one but in Dishonored 2 story and characters are still ok but endings are not. Both of Low and High Chaos endings felt lame to me at the first sight. In fact Emily Kaldwin and Corvo Attano are pretty same. There is only small dialogue and ending differences but I'll get over with it.\\r Dishonored 2 is masterpiece and greatly improved and the cons are too small to notice. It seems like Arkane Studios did their best.\"),\n",
       " (39,\n",
       "  'daftshadow',\n",
       "  datetime.date(2016, 11, 13),\n",
       "  9,\n",
       "  \"Aside from the bugs at launch, Dishonored 2 is a beautiful game. Visually it is gorgeous. The gameplay mechanics are improved from the first game. But unfortunately the PC version was riddled but bugs at launch. Performance would become utter **** at certain areas in the game. At one point the fps would be 60 (vsync enabled), then at another area it would drop significantly, stuttering badly. Changing the graphic options doesn't really seem to make much of a difference. If you can put the performance bugs aside, this game is fantastic. Don't let these low user reviews put you off this game. I highly recommend it.\"),\n",
       " (40,\n",
       "  'Mirambel',\n",
       "  datetime.date(2016, 12, 23),\n",
       "  7,\n",
       "  'After the latest patch the technical problems with this game seem to be solved. I have two computers one old one new and both can now run the game smoothly if you take take the time to adjust graphics settings properly. On the new computer (nvidia 1050 ti) the game looks very good with very high texture quality. On the old one it looks satisfying and still runs smoothly. So the review will be based on game play rather than technical issues.\\r The problem with this game is that it employs RPG mechanics (various perks that improve your character) while being very different from typical RPG games. An RPG game will reward you for all the standard activities you do in the game: fighting, discovering new locations and completing quests. You can then use the experienced gained to improve you character. In this game doing all these things gives you nothing, literally nothing. You can go through successive missions with only minimal increase in your character capabilities until you reach the situation when the further progress is impossibly hard because you are simply too weak. In a standard RPG game you can then change your quest, go elsewhere, farm experience and return when you are ready. But not here. Dishonored 2 is in fact a strictly linear game where you go from A to B to C ... and you can never return to previous locations once you finished them. It is even worse than that. Whenever you reach an essential quest location (typically a large building) you will be locked there until you finish the quest. No chance for extra farming at all. And the farming consists in looking for runes which are dispersed all over the world in hidden locations that have nothing to do at all with doing any questsl. So you will have to waste your time scavanging empty building or sewers just to find runes without which you will not be able to play at a decent power level. But you will only learn that this is so maybe 2-3 missions into the future when there will be no coming back and the only option will be to restard the campaign. I find such design tiresome and a pointless waste of time.\\rAs to the combat it would be interesting and challenging if it were not for the fact that the loading times after getting killed are atrocious. And you will die over and over again if you try to fight your way (especially when being undefarmed) because you die after receiving just 2 hits and multiple opponents will wield pistols. Then there are clockwork soldiers that are totally immune to all your basic attacks. They are essentially invincible. They are in fact 2x worse than deathclaws in Fallout as deathclaws can be beaten even with basic weapons if you have the skill and patience. But the clockwork soldiers just take zero damage from your attacks. Fun like hell. After dying like 20 times to them in a locked room and fighting for 10 seconds and reloading 1 minute each time I called it quits. I will restart the campaign and try again developing my character more carefully but I am not sure if I will want to waste my time crawling in sewers which have nothing to do with the main quest. So this is a strictly linear game with shallow rpg mechanics that forces you to waste your time on boring activities detached from the story and quests. 7 is the resulting score.'),\n",
       " (41,\n",
       "  'voiders',\n",
       "  datetime.date(2016, 11, 10),\n",
       "  0,\n",
       "  'Awful childlike story. Horrible AI. Bad graphics. Horrible performance even in consoles and animations. Dishonored the dishonored 1. What an irony....'),\n",
       " (42,\n",
       "  'Buttpuncher',\n",
       "  datetime.date(2016, 11, 26),\n",
       "  9,\n",
       "  \"I really liked the first game and this one feels like more of the same, which is a really good thing! It's prettier and there are more features, but the core experience is the same. The only negative is that you have to play stealthy to get the good ending to the story. There are a ton of abilities and stuff for fun action-y gameplay, but using them will get you an ending where everyone dies and the whole world goes to ****\\r There are a lot of complaints about hardware issues, but these could just be some sort of organised troll camapign to bring the developer down. I have a fairly basic computer; an old i5 with a GTX980 and only 12gb of RAM and Im able to play this in 2560x1200 on ultra settings with no issues at all.\"),\n",
       " (43,\n",
       "  'dizunard',\n",
       "  datetime.date(2016, 11, 27),\n",
       "  0,\n",
       "  \"Performance is terrible. 0/10 arkane.\\rI wasted my money, for dat peace of sheet. I loved first part of this game series. But Bethesda, like to dip our player's heads in bucket of sheet, and give Arkane a so sheety engine. ID TECH!!! Only Id software can do a good game with dat engine. So. F@k u.\"),\n",
       " (44,\n",
       "  'Fastum',\n",
       "  datetime.date(2016, 11, 11),\n",
       "  9,\n",
       "  \"Great game, if you don't look at the bugs it has. Story is intresting and keeps you going, even with the problems that the game has. Buy this game when the bugs and bad performance are fixed.\"),\n",
       " (45,\n",
       "  'Nobunaga',\n",
       "  datetime.date(2016, 11, 11),\n",
       "  10,\n",
       "  \"The game runs quite well on my computer (GTX 770, i5 4590@3,30 GHz).\\rDishonored 2 improved everything from the first one and brings a lot of new stuff like new non-lethal tools, Emily and her powers, bonecharm crafting, much more elements helping immersion. Gameplay is just perfect and feels so rewarding sometimes. The level design is amazing with original ideas like the clockwork mansion or the time mirror item showing the same mission in the past/present and allowing to travel back and forth in time. Overall it's an awesome experience and only lacks a new game + feature.\"),\n",
       " (46,\n",
       "  'JLFizWiz',\n",
       "  datetime.date(2016, 11, 13),\n",
       "  8,\n",
       "  'Really fun game, the gameplay is incredible, and the game looks amazing. Story has a little to be desired, and the voice acting is only passable. Performance issues aside, the game plays like a dream. Once these performance issues get patched, this game will be amazing.'),\n",
       " (47,\n",
       "  'chalupaman',\n",
       "  datetime.date(2016, 11, 10),\n",
       "  9,\n",
       "  \"I'd like to start by saying that yes, the PC version of Dishonored 2 is littered with various bugs, but, that being said, none have been game-breaking for me in my first 2 hours of playtime. The story so far is fantastic and the level and art design provides fans of the original with an evolution on the original game's painted cityscapes. Overall, I'm excited to see what this game has to offer.\"),\n",
       " (48,\n",
       "  'FreddyKrum',\n",
       "  datetime.date(2016, 11, 10),\n",
       "  10,\n",
       "  \"I Proud To Say That The Dishonored 2 Is The Best Video Game That I've Ever Played Before!\\rEverything Has Made With The Most Accuracy.Everything From Characters To The Coins!\\rThe Story Of The Game Is Fabulous And Wonderful,But According To The Others Reviews,It Has A Lots Of Bugs.I'm Not Telling That It Doesn't Have Any Problem.Because,Today I Faced On With Two Of Them,But If We Be Patient It Will Fix In Next Updates.It's Fixable And You Can Experience It Without Any Snag As Soon As It Possible.Bugs Will Gone But Your Score Will Be Here For Long And It Can Change Other People's Mind About This Fantastic Game.I Believe That It Can Be The Game Of The Year And We Have To Be Prepare For GOTY Edition.\"),\n",
       " (49,\n",
       "  'FPS_Eager',\n",
       "  datetime.date(2016, 11, 15),\n",
       "  10,\n",
       "  \"Dishonored 2's level design is wonderful ! sometimes you just want to walk around and enjoy the environment. there are many ways to finish a mission and you need to seek around for clues like notes or conversations... thanks Arkane thanks Bethesda you are the real mvp in the business.\\r2016's GOTY.\"),\n",
       " (50,\n",
       "  'Neper',\n",
       "  datetime.date(2016, 11, 15),\n",
       "  9,\n",
       "  \"It's obviously flawed on PC, but it's not quite that important when the gameplay is so superb. It builds up from the first game, so you can expect the same core mechanics and outstanding stealth action. It might not bring in a big amount of new things, but I expected a similar game anyway, so it is totally fine with me.\\r The story is also fantastic and I love the new abilities for Emily, despite their similarities with Corvo's. All in all, it was a super fun playthrough and I can't wait to play it again,\"),\n",
       " (51,\n",
       "  'yronnen',\n",
       "  datetime.date(2016, 11, 18),\n",
       "  10,\n",
       "  \"Fantastic stealth game. Great story and graphics are great on GTX1070 1080P on ultra.\\r If you played the previous game, you have to get this one, but even if you didn't, this game is great as a stand alone.\"),\n",
       " (52,\n",
       "  'Rocketsauce28',\n",
       "  datetime.date(2017, 1, 19),\n",
       "  10,\n",
       "  \"Don't pay attention to these retards. What most people aren't realizing is that the original Dishonored had the SAME DAMN PROBLEMS when it was first released on PC. Any game released by Bethesda has a rough start. This game is truly a masterpiece. The world design, immersive characters, game defining choices, and fun as hell abilities make this game truly amazing. The game will also guilt trip you when you kill everything in your path and see in the ending how everything went to crap. This game has IMMENSE replay value, and is overall fantastic.\"),\n",
       " (53,\n",
       "  'SuperkenGaming',\n",
       "  datetime.date(2016, 11, 13),\n",
       "  6,\n",
       "  'Dishonored 2\\rMore like Dishonored .5\\rif you’re expecting a more polished and more awesome version of dishonored with Dishonored 2...\\rSorry to break your heart, pun intended…\\rBut this game feels more like a cheap DLC than a proper sequel\\rit even looks like dishonored 1... A 4 year old ps3 game\\rthe game starts out with you conveniently training the now Empress Emily on being an assassin…\\rIt introduces new ideas and mechanics to the dishonored series like sliding and jumping... but you use none of this throughout the campaign…\\rEmilys Aunt comes to take her place on the throne and its then you choose who you play as, Corvo from Dishonored 1 or the Emperess Emily,\\rI chose Emily as she introduces a new set of magic to the game…\\rAnd you have to save whoever you don’t choose and retake the crown…\\rYour choice does not change the campaign, but will of course change the story.. So there is incentive to play twice...\\rWhich unfortunately if you want to feel you got your moneys worth youll have to do as my run through with Emily took only about 5 hours and 40 minutes…\\rNothing has really changes since dishonored 1, except level design got noticeably worse…\\rThere are 2 levels that are pretty cool puzzles that will definitely test your patience, but these 2 levels are the only 2 of the 9 that live up to this series standards..\\rThe rest all feel uninspired, and therefore I felt no urge to explore them…\\rAnd creating such boring worlds to explore is bad for the player and hurts the gameplay because of how inaccessible magic and upgrades are in this game…\\rIf you aren’t willing to try and figure out how to get to a rune behind some annoying locked door.. you’re not going to have fun at all playing this game as upgrades and magic are so expensive and are mistakenly not unlocked with story progress…\\rI felt the same about the original.. But it’s even worse here due to how inaccessible everything is...\\rMagic should be given to you as you progress through the story and the level design should be crafted around this magic…\\rThere is an option to do a no magic run here as Emily, but even still… theres potential to turn this into 3 different campaigns centered around each characters magic or lack there of…\\rInstead theyd rather annoy you by hiding the runes in frustrating spots like they don’t want you to have fun with their game..\\rWell congrats Bethesda, you win...\\rI didn’t have fun at all…\\rUpgrades are also only available at shops… and for ridiculous prices that you won’t be able to afford unless again, you spend the time to explore these poorly designed levels with horrible progression indication…\\rI understand the whole point of dishonored is to place you in a world and let you go..\\rBut there should still be some sort of direction designed into the world…\\rFor example one of the later missions I was stuck in a room forever trying to leave, only to google and find out everyone else had problems with this spot to… there was a button next to the door you were supposed to hit.. The game never tells you to look for a button to proceed, it just gives you a locked door... and it’s a Bethesda game so naturally one would assume, this is a bug... no... Just bad design.\\rThe hand to hand combat here is just as bad as it was in the original, now however there are ways to just knock enemies out instead of killing them in combat which makes a non-lethal run much easier to obtain, but the stealthy approach is still the more satisfying option…\\rDishonored 2 is everything we already got…\\rSneak around, take people out, get detected and sword fight or gun fight…\\rDisable electric walls A dash of magic  all in a less inspired world… with like 1 and a half hours of awesomeness from 2 levels.\\rSet your standards low… It’s nowhere near as good as the original.\\rI Give Dishonored 2\\ra 5.5/10'),\n",
       " (54,\n",
       "  'Piecefighter',\n",
       "  datetime.date(2016, 11, 14),\n",
       "  9,\n",
       "  'I really like the game so far into it about six hours and want to keep playing - which makes this a great game for a change!  I have played more of this campaign than Titanfall 2 or Battlefield 1 so yea, It is a much needed change from the typical shooter.  I am running a i7-6700K (4.4 Ghz) and GTX 1080 Xtreme and 16 GB RAM playing the game in 4K with everything maxed out - pulling 35-60 FPS no stutters not crashing = no problem.  I really like the game, the details and scenery are amazing to look at... this is why I bought a gaming PC with hardware that can run software maxed out for the best gaming experience possible, and this game delivers on the software end!'),\n",
       " (55,\n",
       "  'Jhango1',\n",
       "  datetime.date(2016, 11, 10),\n",
       "  9,\n",
       "  \"First i am going to address the elephant in the room. Yes the optimisation is not perfect but just wait for the imminent patches. With my fx 8320 @ 4.0 ghz, 8gb 1600mhz ram and gtx 970 i got average of 50 fps on very high settings but the fps did drop to 36 - 40 while in the city. It certainly does not make the game unplayable but is a bit annoying. Aside from that, during my 9 hours of play-through I did not encounter any bug. The story is just as interesting if not more compared to the original Dishonoured. The art design and graphics are just breathtaking. The combat and stealth feels refined and refreshed compared to the original with some new powers. The new powers are super useful and make the game very enjoyable. In its current state i would give the game 9/10. Without the technical issues it would've been a 10/10. I have played the original dishonoured like 6 times full stealth and for me dishonoured 2 is everything i wanted from a sequel.\"),\n",
       " (56,\n",
       "  'little_will',\n",
       "  datetime.date(2016, 11, 12),\n",
       "  10,\n",
       "  'I really enjoyed the first game and this one is worth the money it has an excellent story and fun gameplay. This game is beautifully crafted and worth the $60. They have also added much more of a challenge and better kill animations. I only have one problem with the story and that is , other then that i have minor issues like there is no animation for picking up or throwing objects.'),\n",
       " (57,\n",
       "  'jtmetacritic',\n",
       "  datetime.date(2016, 11, 20),\n",
       "  10,\n",
       "  \"Somehow even better than the first game. AMAZING game, runs phenomenally on my PC. Not sure why people are having performance issues. I am running on Ultra, 50-75 fps with a RX-480.\\r This game is even better than the first one. They didn't change too much; they did it just right. Bigger maps, amazing level design, fun new powers, multiple playstyles, several different endings based on character played and lethality/stealth... I love it so much. Dishonored is back and it's better than ever.\"),\n",
       " (58,\n",
       "  '5manrocks1',\n",
       "  datetime.date(2016, 11, 26),\n",
       "  10,\n",
       "  \"This game has had a less than stellar launch. However, with my GTX 1070 and i7-4790k, I can play on Very High to Ultra settings with minimal issues. Also, for those of you that do have problems, the game likes to set its priority to low after each loading screen, so changing it to normal or above should do the trick until there's a patch. Now, onto the review.\\r The first Dishonored is my favorite game of all time. Obviously, I was anxious for the day to come where I could reprise my role as Royal Protector Corvo Attano, or I could possess the role of Empress Emily Kaldwin, whom has a slew of new abilities. As of now, I am around 10 hours into my playthrough as Emily and I must say that this is exactly what I expected from this sequel. Of course, there are multiple ways of reaching your target and also multiple ways to take down your target. Each power now has a more in-depth upgrade tree in which you can allow Corvo's Blink to be redirective, as Daud's was in the Knife of Dunwall and the Brigmore Witches, or you can upgrade Emily's Doppleganger ability to create copies of yourself that will fight for you.\\r A new feature that I was very excited for was Bonecharm Crafting. This works by sacrificing a bone charm's trait so that you will be able to create a single bone charm with multiple traits taken from a sacrificed charm. You can create a single charm with two, three, or four traits, however, corrupted charms have made a reappearance from Daud's DLC. The more traits you add onto a crafted bone charm, the more likely it will be come corrupted and apply a negative attribute along with the traits you applied to it.\\r I don't know much about graphics, but I can tell you that this game's graphics are outstanding. I will occasionally stop and stare at the scenery, which will sometimes appear as a beautiful painting. The art style has remained the same and it helps with its look that much more.\\r There are new enemies, such as the Nest Keepers and the Clockwork Soldiers that will help gameplay from feeling repetitive. There are new faces, as well as old ones. There are new powers that can be heavily upgraded (if you can find the resources to do so), and old ones with new attributes to be added onto them. There's an entirely new system for bone charms that can be ignored if you do not care for corrupted charms. There are new places to explore, and there are old, but familiar ones that make this sequel feel that much more like Dishonored.\\r This game has gotten a lot of criticism for its performance, but looking past this minor inconvenience, Dishonored 2 is yet another masterpiece created by the masterminds at Arkane Studios. In my opinion, Dishonored 2 is hands-down my Game of the Year and I would recommend this piece of art to each and every one of you.\"),\n",
       " (59,\n",
       "  'MadJoker11',\n",
       "  datetime.date(2016, 11, 16),\n",
       "  10,\n",
       "  'So I can affirm that this game is one of the most intrinsically in-depth games I have ever played.  Not only does it have a good story to play through that you can learn more from just picking up and reading all the different documents laying around, but the gameplay is outstanding and so entertaining.  I have been playing on very hard the whole time and I am close to the end of the game. Now, I will say like the first it was very frustrating in the beginning when you had barely any abilities at your disposal.  Although, that all changes and you can easily adapt yourself to the way you want to play.  I tried the nonlethal approach for a bit and loved the challenge, but once I started gaining powers from collecting the runes it all changed fast. Eliminating unaware guards could never get old and there are so many ways to do it.  So what if I have a high chaos ending at least it was fun the whole time and still quite the challenge at my difficulty setting. Lastly, I really despise people that leave reviews of games and give it awful scores because of their own hardware issues or FPS issue that will be patched.  I purposely waited until the issues were resolved with updates and driver updates until I made an educated decision about this review.  I will even say I had FPS issues with my combine GTX 970 SSC and GTX 670 (Dedicated PhysX GPU) running the game. Now, I am running the game on ultra settings and I have zero issues. So hopefully this is helpful because regardless I think this has a really good chance of being Game of the Year.'),\n",
       " (60,\n",
       "  'dimedrol_by',\n",
       "  datetime.date(2016, 11, 16),\n",
       "  9,\n",
       "  'I am playing on GTX 1080 so the notorious performance issues do not apply to me. But atmosphere-wise this game is just great. Full immersion. Great story, great level design (id tech engine itself if subpar), great sound and dialogs.'),\n",
       " (61,\n",
       "  'josh1',\n",
       "  datetime.date(2016, 11, 12),\n",
       "  10,\n",
       "  \"I love this game i cant stop playing it. I never had the first one and i didn't want this game at all, but a friend convinced me to get it and i am sooooo happy he did because this is the best game i have ever play every part of this game is memorable and enjoyable there wasn't a moment i was board. The story was interesting and kept me wanting more. I just finished it and i'm going for play through two as the empress Emily Kaldwin. There is also apparently different endings depending on if you kill to many people or don't kill them, so that is like four play through i'm never going to be able to get enough of this game. MUST BUY 2016!!!!!!!!!!!!!\"),\n",
       " (62,\n",
       "  'SofaTrooper',\n",
       "  datetime.date(2016, 12, 14),\n",
       "  1,\n",
       "  \"What can I say this is not the easiest dislike I have ever given. Unfortunately due to the abysmal performance, I can't in good conscience recommend this game for the PC. It's a darn shame too because what they have here is something very unique. The games world is amazing to explore with many secrets to find places to see and people to interact with. The combat is fun whether it be stealth or direct attacks and with the powers you have make you a killing machine.\\r However the performance is such a let down. My PC should be running this game without issue, yet there seems to be a constant battle of unstable fps, dipping and dropping regardless of settings. Even tested the lowest settings on my Rx480 8gb Vram and it still bounces. This is a great game ruined by a poor port. This is becoming a far to common problem for PC, and only hurts the industry when such potential is released in such conditions like this.\"),\n",
       " (63,\n",
       "  'rodericrinehart',\n",
       "  datetime.date(2017, 1, 1),\n",
       "  10,\n",
       "  \"One of the most exquisite world-building exercises ever. Each level is varied and crafted, offering multiple ways to solve or escape or kill your way out. This and Deus Ex Mankind Divided were both such amazing open worlds. I enjoyed Mankind Divided's graphics and controls better, but Dishonored 2 had the better levels and world building. Both amazing.\"),\n",
       " (64,\n",
       "  'meowmix133',\n",
       "  datetime.date(2017, 1, 12),\n",
       "  9,\n",
       "  'Dishonored 2 is a great game. Unfortunately had to play on lowest quality possible or would it would get buggy. That aside I was not disappointed although I feel the blood flies could have had a bigger role in the plot other than just a nuisance'),\n",
       " (65,\n",
       "  'Eusebe_',\n",
       "  datetime.date(2016, 11, 16),\n",
       "  10,\n",
       "  \"F*ck off the performance. He run fine, not smooth as hell but, seriously, you don't need to care (or you need to wait a bit for some patch, be patient omg).\\rArt direction, level design and gameplay are perfect. Scenario not cool but, meh, like Dishonored 1 and I don't play for that. 10/10 for me, would play 6 times as soon as I can.\\rThree time for each character, as a killer, a good person and again but without power. Real good challenging.\"),\n",
       " (66,\n",
       "  'Metiiin',\n",
       "  datetime.date(2016, 11, 15),\n",
       "  10,\n",
       "  'Equally encapsulating as the first one, if not more. Currently working on the stealth/no killing achievements and am having as much fun as I did in the first one. The stories are stitched together well and the overall feel of the setting is great. I hear there are performance issues but on my i7 3770k, GTX 1080, 16GB RAM on a Vertex 4 I dont have any issues running 1080@60fps (Running complete Max settings and Windowed Borderless).'),\n",
       " (67,\n",
       "  'SUD2001',\n",
       "  datetime.date(2016, 12, 23),\n",
       "  10,\n",
       "  \"This game is great. Great story, unique combat it's a good game. Only reason people are giving it terrible scores is becasue of the PC issues. On console, it runs great.\"),\n",
       " (68,\n",
       "  'LarixUthule',\n",
       "  datetime.date(2017, 1, 1),\n",
       "  10,\n",
       "  \"This is an excellent game, a masterpiece in fact.\\r I played on a PC and a laptop both with solid CPUs (i7 intel), Game Cards (Radeon R9 390 8GB; Geforce 1070 8GB), and plenty of memory (32GB and 16GB).  I had no frame rate or stuttering problems, and no crashes, but can say that I appreciated the improvements over time in mouse functioning.\\r I am an older gamer (66), a clinical social worker, and an artist.   The game is rich and challenging - full of encounters requiring meaningful choices, including morally and psychologically challenging ones; and it is a beautiful work, as well.  I did experiment a little with high chaos, and low chaos suits me better.  Point: you can play any way you like, and there is enough game there to play every way you like.\\r I've played through multiple times, as both Corvo and Emily, in 170 hours, preferring the powers of Emily until Game+ was released and then the difference all but disappeared.  Game+ gives the player enough powers (runes earned in earlier completed games that can be used after The Streets of Dunmore) to more easily explore the game.\\r I'm going in again, once more from the top, to see if I can explore every inch of every level in the game.\"),\n",
       " (69,\n",
       "  'Lambo442',\n",
       "  datetime.date(2016, 11, 23),\n",
       "  10,\n",
       "  \"I wish all these tools would stop down voting a game just because the PC in their mum's basement is too ancient to run a game smoothly. Either that or they're such nerds that anything less than staring at the most dazzling eye candy just isn't acceptable. The amount of time and effort that went into designing the artwork for the game boggles the mind and it's such a fun and immersive title that giving it anything below seven is tantamount to treason\"),\n",
       " (70,\n",
       "  'MoroseTroll',\n",
       "  datetime.date(2016, 12, 15),\n",
       "  9,\n",
       "  \"Contra:\\r1. The second game's plot isn't original - we already saw something similar in the first game.\\r Pro:\\r1. The initial PC version of the game *had* some performance issues, but *now* they're fixed, so the game runs very well even on a middle-end PC on *Ultra* settings.\\r2. The game looks just *amazing*! I mean it's like Crysis 1 back in 2007 - you just walk around and enjoy the beautiful environment throughout the *huge* levels.\\r3. The game play is even more enjoyable than in the first game. As always, you have a lot of options to complete your objectives. I personally prefer a complete stealth (no blood, no see, sometimes even ghost-like), and I've enjoyed both my playthroughs (ATM) very much.\\r4. Both protagonists are nicely voiced, and they both talk a lot. Since I'm a devoted Stephen Russell's fan since 1998, I personally prefer to hear Corvo's voice :).\\r5. The world around you is alive. The Karnaca's street musicians sing *nice* songs, and the people around hear and applaud them. The City Watch cops whine about their cloths and boots, and even sing sometimes, too :). People at Karnaca's port are doing their own business: fishing, sawing, selling, discussing, looking for job. You can share a coin with beggars, and they can tell something useful in return. You can save an innocent people from the City Watch's tyranny, and they will thank you for this. Also, there is a time travel in the game, and you'll have to change something in the past to reach your goals in the present. My first playthrough took more than 60 hours - isn't that nice?\\r Bottom line: 9/10. Must have.\"),\n",
       " (71,\n",
       "  'mijxero',\n",
       "  datetime.date(2016, 12, 30),\n",
       "  6,\n",
       "  'This game is just as good as the first, but with not a lot of new things.  As a sequel it offers more of the same, which is good.  Unfortunately it runs like absolute crap.  It feels like a really strong DLC with terrible performance issues.')]"
      ]
     },
     "execution_count": 34,
     "metadata": {},
     "output_type": "execute_result"
    }
   ],
   "source": [
    "review_text"
   ]
  },
  {
   "cell_type": "code",
   "execution_count": 32,
   "metadata": {
    "collapsed": false
   },
   "outputs": [
    {
     "data": {
      "text/plain": [
       "datetime.date(2016, 11, 10)"
      ]
     },
     "execution_count": 32,
     "metadata": {},
     "output_type": "execute_result"
    }
   ],
   "source": [
    "datetime.strptime(review_text[0][2], '%b %d, %Y').date()"
   ]
  },
  {
   "cell_type": "code",
   "execution_count": null,
   "metadata": {
    "collapsed": true
   },
   "outputs": [],
   "source": []
  },
  {
   "cell_type": "markdown",
   "metadata": {},
   "source": [
    "### Example code from Analytics Vidhya"
   ]
  },
  {
   "cell_type": "code",
   "execution_count": 12,
   "metadata": {
    "collapsed": true
   },
   "outputs": [],
   "source": [
    "doc1 = \"Sugar is bad to consume. My sister likes to have sugar, but not my father.\"\n",
    "doc2 = \"My father spends a lot of time driving my sister around to dance practice.\"\n",
    "doc3 = \"Doctors suggest that driving may cause increased stress and blood pressure.\"\n",
    "doc4 = \"Sometimes I feel pressure to perform well at school, but my father never seems to drive my sister to do better.\"\n",
    "doc5 = \"Health experts say that Sugar is not good for your lifestyle.\"\n",
    "\n",
    "# compile documents\n",
    "doc_complete = [doc1, doc2, doc3, doc4, doc5]"
   ]
  },
  {
   "cell_type": "code",
   "execution_count": 13,
   "metadata": {
    "collapsed": false
   },
   "outputs": [],
   "source": [
    "from nltk.corpus import stopwords \n",
    "from nltk.stem.wordnet import WordNetLemmatizer\n",
    "import string\n",
    "stop = set(stopwords.words('english'))\n",
    "exclude = set(string.punctuation) \n",
    "lemma = WordNetLemmatizer()\n",
    "def clean(doc):\n",
    "    stop_free = \" \".join([i for i in doc.lower().split() if i not in stop])\n",
    "    punc_free = ''.join(ch for ch in stop_free if ch not in exclude)\n",
    "    normalized = \" \".join(lemma.lemmatize(word) for word in punc_free.split())\n",
    "    return normalized\n",
    "\n",
    "doc_clean = [clean(doc).split() for doc in doc_complete] "
   ]
  },
  {
   "cell_type": "code",
   "execution_count": 37,
   "metadata": {
    "collapsed": false
   },
   "outputs": [
    {
     "data": {
      "text/plain": [
       "[['sugar', 'bad', 'consume', 'sister', 'like', 'sugar', 'father'],\n",
       " ['father',\n",
       "  'spends',\n",
       "  'lot',\n",
       "  'time',\n",
       "  'driving',\n",
       "  'sister',\n",
       "  'around',\n",
       "  'dance',\n",
       "  'practice'],\n",
       " ['doctor',\n",
       "  'suggest',\n",
       "  'driving',\n",
       "  'may',\n",
       "  'cause',\n",
       "  'increased',\n",
       "  'stress',\n",
       "  'blood',\n",
       "  'pressure'],\n",
       " ['sometimes',\n",
       "  'feel',\n",
       "  'pressure',\n",
       "  'perform',\n",
       "  'well',\n",
       "  'school',\n",
       "  'father',\n",
       "  'never',\n",
       "  'seems',\n",
       "  'drive',\n",
       "  'sister',\n",
       "  'better'],\n",
       " ['health', 'expert', 'say', 'sugar', 'good', 'lifestyle']]"
      ]
     },
     "execution_count": 37,
     "metadata": {},
     "output_type": "execute_result"
    }
   ],
   "source": [
    "doc_clean"
   ]
  },
  {
   "cell_type": "markdown",
   "metadata": {},
   "source": [
    "## MVP Cleaning of a few reviews"
   ]
  },
  {
   "cell_type": "code",
   "execution_count": 25,
   "metadata": {
    "collapsed": true
   },
   "outputs": [],
   "source": [
    "reviews_subset = [review_text[i][4] for i in range(len(review_text))]"
   ]
  },
  {
   "cell_type": "code",
   "execution_count": 26,
   "metadata": {
    "collapsed": false
   },
   "outputs": [],
   "source": [
    "reviews_clean = [clean(rev).split() for rev in reviews_subset] "
   ]
  },
  {
   "cell_type": "code",
   "execution_count": 20,
   "metadata": {
    "collapsed": false
   },
   "outputs": [],
   "source": [
    "from gensim.models.ldamodel import LdaModel\n",
    "from gensim import corpora"
   ]
  },
  {
   "cell_type": "code",
   "execution_count": 27,
   "metadata": {
    "collapsed": true
   },
   "outputs": [],
   "source": [
    "dictionary = corpora.Dictionary(reviews_clean)\n",
    "doc_term_matrix = [dictionary.doc2bow(doc) for doc in reviews_clean]"
   ]
  },
  {
   "cell_type": "code",
   "execution_count": 28,
   "metadata": {
    "collapsed": false
   },
   "outputs": [],
   "source": [
    "ldamod = LdaModel(doc_term_matrix, num_topics=3, id2word = dictionary, passes=50)"
   ]
  },
  {
   "cell_type": "code",
   "execution_count": 31,
   "metadata": {
    "collapsed": false
   },
   "outputs": [
    {
     "name": "stdout",
     "output_type": "stream",
     "text": [
      "[(0, '0.029*\"game\" + 0.009*\"2\" + 0.009*\"like\" + 0.008*\"dishonored\" + 0.008*\"time\" + 0.006*\"get\" + 0.005*\"level\" + 0.005*\"around\" + 0.005*\"1\" + 0.005*\"really\"'), (1, '0.011*\"game\" + 0.009*\"new\" + 0.008*\"dishonored\" + 0.007*\"way\" + 0.007*\"ending\" + 0.006*\"like\" + 0.006*\"charm\" + 0.006*\"one\" + 0.005*\"2\" + 0.005*\"it\"'), (2, '0.040*\"game\" + 0.009*\"even\" + 0.009*\"it\" + 0.008*\"story\" + 0.008*\"issue\" + 0.008*\"pc\" + 0.008*\"great\" + 0.008*\"fps\" + 0.008*\"really\" + 0.007*\"play\"')]\n"
     ]
    }
   ],
   "source": [
    "print(ldamod.print_topics(num_topics=3, num_words=10))"
   ]
  }
 ],
 "metadata": {
  "anaconda-cloud": {},
  "kernelspec": {
   "display_name": "Python [my_projects_env]",
   "language": "python",
   "name": "Python [my_projects_env]"
  },
  "language_info": {
   "codemirror_mode": {
    "name": "ipython",
    "version": 3
   },
   "file_extension": ".py",
   "mimetype": "text/x-python",
   "name": "python",
   "nbconvert_exporter": "python",
   "pygments_lexer": "ipython3",
   "version": "3.5.2"
  }
 },
 "nbformat": 4,
 "nbformat_minor": 0
}
