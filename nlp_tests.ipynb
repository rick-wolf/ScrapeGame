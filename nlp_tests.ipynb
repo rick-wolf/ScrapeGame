{
 "cells": [
  {
   "cell_type": "code",
   "execution_count": 32,
   "metadata": {
    "collapsed": false
   },
   "outputs": [],
   "source": [
    "import pandas as pd\n",
    "import numpy as np\n",
    "import matplotlib\n",
    "import seaborn as sns\n",
    "import gensim\n",
    "import psycopg2\n",
    "from gensim.models.ldamodel import LdaModel\n",
    "from gensim import corpora\n",
    "\n",
    "%matplotlib inline"
   ]
  },
  {
   "cell_type": "code",
   "execution_count": 5,
   "metadata": {
    "collapsed": false
   },
   "outputs": [],
   "source": [
    "conn=psycopg2.connect(\"dbname='scrapegame' user='rickwolf' password='mypass'\")\n",
    "conn.autocommit = True\n",
    "cur = conn.cursor()"
   ]
  },
  {
   "cell_type": "code",
   "execution_count": 95,
   "metadata": {
    "collapsed": false
   },
   "outputs": [],
   "source": [
    "cur.execute(\"\"\"\n",
    "SELECT * FROM reviews\n",
    "WHERE game_id = (SELECT gameid FROM games WHERE gametitle LIKE '%Binding of Isaac: Afterbirth')\n",
    "\"\"\")"
   ]
  },
  {
   "cell_type": "code",
   "execution_count": 96,
   "metadata": {
    "collapsed": true
   },
   "outputs": [],
   "source": [
    "df = pd.DataFrame(cur.fetchall(), columns=['review_id', 'game_id', 'username', 'rev_text', 'date', 'score'])"
   ]
  },
  {
   "cell_type": "code",
   "execution_count": 97,
   "metadata": {
    "collapsed": false
   },
   "outputs": [
    {
     "data": {
      "text/html": [
       "<div>\n",
       "<table border=\"1\" class=\"dataframe\">\n",
       "  <thead>\n",
       "    <tr style=\"text-align: right;\">\n",
       "      <th></th>\n",
       "      <th>review_id</th>\n",
       "      <th>game_id</th>\n",
       "      <th>username</th>\n",
       "      <th>rev_text</th>\n",
       "      <th>date</th>\n",
       "      <th>score</th>\n",
       "    </tr>\n",
       "  </thead>\n",
       "  <tbody>\n",
       "    <tr>\n",
       "      <th>0</th>\n",
       "      <td>7523</td>\n",
       "      <td>6320</td>\n",
       "      <td>Satisfaction</td>\n",
       "      <td>Great DLC (despite the launch glitch, but I do...</td>\n",
       "      <td>2015-11-10</td>\n",
       "      <td>9</td>\n",
       "    </tr>\n",
       "    <tr>\n",
       "      <th>1</th>\n",
       "      <td>7524</td>\n",
       "      <td>6320</td>\n",
       "      <td>GYM11000</td>\n",
       "      <td>This is the best DLC that has ever existed. It...</td>\n",
       "      <td>2015-11-07</td>\n",
       "      <td>10</td>\n",
       "    </tr>\n",
       "    <tr>\n",
       "      <th>2</th>\n",
       "      <td>7525</td>\n",
       "      <td>6320</td>\n",
       "      <td>fergbot</td>\n",
       "      <td>A great expansion to Rebirth with plenty of in...</td>\n",
       "      <td>2015-11-07</td>\n",
       "      <td>9</td>\n",
       "    </tr>\n",
       "    <tr>\n",
       "      <th>3</th>\n",
       "      <td>7526</td>\n",
       "      <td>6320</td>\n",
       "      <td>tramper_94</td>\n",
       "      <td>The binding of isaac :afterbirth is the best r...</td>\n",
       "      <td>2015-11-04</td>\n",
       "      <td>10</td>\n",
       "    </tr>\n",
       "    <tr>\n",
       "      <th>4</th>\n",
       "      <td>7527</td>\n",
       "      <td>6320</td>\n",
       "      <td>DiesIre</td>\n",
       "      <td>Именно так и нужно делать DLC. За 150 рублей т...</td>\n",
       "      <td>2015-11-05</td>\n",
       "      <td>10</td>\n",
       "    </tr>\n",
       "    <tr>\n",
       "      <th>5</th>\n",
       "      <td>7528</td>\n",
       "      <td>6320</td>\n",
       "      <td>pikby</td>\n",
       "      <td>this is a perfect expansion to a perfect game ...</td>\n",
       "      <td>2015-12-01</td>\n",
       "      <td>9</td>\n",
       "    </tr>\n",
       "    <tr>\n",
       "      <th>6</th>\n",
       "      <td>7529</td>\n",
       "      <td>6320</td>\n",
       "      <td>Ladyvalhalla</td>\n",
       "      <td>The waiting is over, the Binding of Isaac: aft...</td>\n",
       "      <td>2015-11-24</td>\n",
       "      <td>9</td>\n",
       "    </tr>\n",
       "    <tr>\n",
       "      <th>7</th>\n",
       "      <td>7530</td>\n",
       "      <td>6320</td>\n",
       "      <td>imnlol</td>\n",
       "      <td>DLC released with time gated content and major...</td>\n",
       "      <td>2015-11-07</td>\n",
       "      <td>7</td>\n",
       "    </tr>\n",
       "    <tr>\n",
       "      <th>8</th>\n",
       "      <td>7531</td>\n",
       "      <td>6320</td>\n",
       "      <td>buzz3791</td>\n",
       "      <td>Good for horror and sadists and that's about i...</td>\n",
       "      <td>2015-11-21</td>\n",
       "      <td>3</td>\n",
       "    </tr>\n",
       "    <tr>\n",
       "      <th>9</th>\n",
       "      <td>7532</td>\n",
       "      <td>6320</td>\n",
       "      <td>Tubey</td>\n",
       "      <td>I'm late to the party on Isaac - only played i...</td>\n",
       "      <td>2015-12-26</td>\n",
       "      <td>8</td>\n",
       "    </tr>\n",
       "    <tr>\n",
       "      <th>10</th>\n",
       "      <td>7533</td>\n",
       "      <td>6320</td>\n",
       "      <td>Synochy</td>\n",
       "      <td>This is the most worth it game of all time Bid...</td>\n",
       "      <td>2015-11-26</td>\n",
       "      <td>10</td>\n",
       "    </tr>\n",
       "    <tr>\n",
       "      <th>11</th>\n",
       "      <td>7534</td>\n",
       "      <td>6320</td>\n",
       "      <td>eluc</td>\n",
       "      <td>A huge expansion for an already massive game w...</td>\n",
       "      <td>2015-11-09</td>\n",
       "      <td>10</td>\n",
       "    </tr>\n",
       "    <tr>\n",
       "      <th>12</th>\n",
       "      <td>7535</td>\n",
       "      <td>6320</td>\n",
       "      <td>Remo-chan</td>\n",
       "      <td>It's what you love about rebirth, but more. No...</td>\n",
       "      <td>2015-11-11</td>\n",
       "      <td>9</td>\n",
       "    </tr>\n",
       "    <tr>\n",
       "      <th>13</th>\n",
       "      <td>7536</td>\n",
       "      <td>6320</td>\n",
       "      <td>Bastien</td>\n",
       "      <td>I think the producers wrongly believed that th...</td>\n",
       "      <td>2016-09-04</td>\n",
       "      <td>6</td>\n",
       "    </tr>\n",
       "    <tr>\n",
       "      <th>14</th>\n",
       "      <td>7537</td>\n",
       "      <td>6320</td>\n",
       "      <td>pcardenal5</td>\n",
       "      <td>New items, new bosses, new mechanics. If the j...</td>\n",
       "      <td>2015-12-30</td>\n",
       "      <td>10</td>\n",
       "    </tr>\n",
       "    <tr>\n",
       "      <th>15</th>\n",
       "      <td>7538</td>\n",
       "      <td>6320</td>\n",
       "      <td>ingilee123</td>\n",
       "      <td>Okay, Afterbirth.\\r Personally, as a newbie, I...</td>\n",
       "      <td>2016-01-09</td>\n",
       "      <td>7</td>\n",
       "    </tr>\n",
       "    <tr>\n",
       "      <th>16</th>\n",
       "      <td>7539</td>\n",
       "      <td>6320</td>\n",
       "      <td>skywreckdemon</td>\n",
       "      <td>This is what DLC should be like. A lot of new ...</td>\n",
       "      <td>2016-02-17</td>\n",
       "      <td>9</td>\n",
       "    </tr>\n",
       "    <tr>\n",
       "      <th>17</th>\n",
       "      <td>7540</td>\n",
       "      <td>6320</td>\n",
       "      <td>ThunderGreen</td>\n",
       "      <td>en steam llevo 365 horas, al menos una 200 en ...</td>\n",
       "      <td>2016-09-10</td>\n",
       "      <td>9</td>\n",
       "    </tr>\n",
       "  </tbody>\n",
       "</table>\n",
       "</div>"
      ],
      "text/plain": [
       "    review_id  game_id       username  \\\n",
       "0        7523     6320   Satisfaction   \n",
       "1        7524     6320       GYM11000   \n",
       "2        7525     6320        fergbot   \n",
       "3        7526     6320     tramper_94   \n",
       "4        7527     6320        DiesIre   \n",
       "5        7528     6320          pikby   \n",
       "6        7529     6320   Ladyvalhalla   \n",
       "7        7530     6320         imnlol   \n",
       "8        7531     6320       buzz3791   \n",
       "9        7532     6320          Tubey   \n",
       "10       7533     6320        Synochy   \n",
       "11       7534     6320           eluc   \n",
       "12       7535     6320      Remo-chan   \n",
       "13       7536     6320        Bastien   \n",
       "14       7537     6320     pcardenal5   \n",
       "15       7538     6320     ingilee123   \n",
       "16       7539     6320  skywreckdemon   \n",
       "17       7540     6320   ThunderGreen   \n",
       "\n",
       "                                             rev_text        date  score  \n",
       "0   Great DLC (despite the launch glitch, but I do...  2015-11-10      9  \n",
       "1   This is the best DLC that has ever existed. It...  2015-11-07     10  \n",
       "2   A great expansion to Rebirth with plenty of in...  2015-11-07      9  \n",
       "3   The binding of isaac :afterbirth is the best r...  2015-11-04     10  \n",
       "4   Именно так и нужно делать DLC. За 150 рублей т...  2015-11-05     10  \n",
       "5   this is a perfect expansion to a perfect game ...  2015-12-01      9  \n",
       "6   The waiting is over, the Binding of Isaac: aft...  2015-11-24      9  \n",
       "7   DLC released with time gated content and major...  2015-11-07      7  \n",
       "8   Good for horror and sadists and that's about i...  2015-11-21      3  \n",
       "9   I'm late to the party on Isaac - only played i...  2015-12-26      8  \n",
       "10  This is the most worth it game of all time Bid...  2015-11-26     10  \n",
       "11  A huge expansion for an already massive game w...  2015-11-09     10  \n",
       "12  It's what you love about rebirth, but more. No...  2015-11-11      9  \n",
       "13  I think the producers wrongly believed that th...  2016-09-04      6  \n",
       "14  New items, new bosses, new mechanics. If the j...  2015-12-30     10  \n",
       "15  Okay, Afterbirth.\\r Personally, as a newbie, I...  2016-01-09      7  \n",
       "16  This is what DLC should be like. A lot of new ...  2016-02-17      9  \n",
       "17  en steam llevo 365 horas, al menos una 200 en ...  2016-09-10      9  "
      ]
     },
     "execution_count": 97,
     "metadata": {},
     "output_type": "execute_result"
    }
   ],
   "source": [
    "df"
   ]
  },
  {
   "cell_type": "markdown",
   "metadata": {},
   "source": [
    "# Mess With Different Text Models"
   ]
  },
  {
   "cell_type": "code",
   "execution_count": 98,
   "metadata": {
    "collapsed": false
   },
   "outputs": [
    {
     "data": {
      "text/plain": [
       "<matplotlib.axes._subplots.AxesSubplot at 0x116a7f828>"
      ]
     },
     "execution_count": 98,
     "metadata": {},
     "output_type": "execute_result"
    },
    {
     "data": {
      "image/png": "[encoded data removed]",
      "text/plain": [
       "<matplotlib.figure.Figure at 0x11cb1ad30>"
      ]
     },
     "metadata": {},
     "output_type": "display_data"
    }
   ],
   "source": [
    "sns.distplot(df.score, bins=range(11), kde=False)"
   ]
  },
  {
   "cell_type": "code",
   "execution_count": 99,
   "metadata": {
    "collapsed": false
   },
   "outputs": [
    {
     "data": {
      "text/plain": [
       "9.0"
      ]
     },
     "execution_count": 99,
     "metadata": {},
     "output_type": "execute_result"
    }
   ],
   "source": [
    "df.score.quantile()"
   ]
  },
  {
   "cell_type": "markdown",
   "metadata": {},
   "source": [
    "Half of the scores are below 7, so start with that as the split for negative or positive"
   ]
  },
  {
   "cell_type": "code",
   "execution_count": 100,
   "metadata": {
    "collapsed": false
   },
   "outputs": [],
   "source": [
    "from nltk.corpus import stopwords \n",
    "from nltk.stem.wordnet import WordNetLemmatizer\n",
    "import string\n",
    "stop = set(stopwords.words('english'))\n",
    "exclude = set(string.punctuation) \n",
    "lemma = WordNetLemmatizer()\n",
    "def clean(doc):\n",
    "    stop_free = \" \".join([i for i in doc.lower().split() if i not in stop])\n",
    "    punc_free = ''.join(ch for ch in stop_free if ch not in exclude)\n",
    "    normalized = \" \".join(lemma.lemmatize(word) for word in punc_free.split())\n",
    "    return normalized"
   ]
  },
  {
   "cell_type": "code",
   "execution_count": 101,
   "metadata": {
    "collapsed": true
   },
   "outputs": [],
   "source": [
    "rev_clean = [clean(rev).split() for rev in df['rev_text']]"
   ]
  },
  {
   "cell_type": "code",
   "execution_count": 102,
   "metadata": {
    "collapsed": false
   },
   "outputs": [],
   "source": [
    "from collections import defaultdict\n",
    "frequency = defaultdict(int)\n",
    "for rev in rev_clean:\n",
    "    for token in rev:\n",
    "        frequency[token] += 1"
   ]
  },
  {
   "cell_type": "code",
   "execution_count": 103,
   "metadata": {
    "collapsed": true
   },
   "outputs": [],
   "source": [
    "rev_trimmed = [[token for token in text if frequency[token] > 1 and frequency[token] < 100] for text in rev_clean]"
   ]
  },
  {
   "cell_type": "code",
   "execution_count": 104,
   "metadata": {
    "collapsed": false
   },
   "outputs": [
    {
     "name": "stdout",
     "output_type": "stream",
     "text": [
      "Dictionary(107 unique tokens: ['highly', 'im', 'whole', 'игры', 'bug']...)\n"
     ]
    }
   ],
   "source": [
    "dictionary = corpora.Dictionary(rev_trimmed)\n",
    "print(dictionary)"
   ]
  },
  {
   "cell_type": "code",
   "execution_count": 105,
   "metadata": {
    "collapsed": true
   },
   "outputs": [],
   "source": [
    "doc_term_matrix = [dictionary.doc2bow(doc) for doc in rev_trimmed]"
   ]
  },
  {
   "cell_type": "code",
   "execution_count": 106,
   "metadata": {
    "collapsed": false
   },
   "outputs": [
    {
     "name": "stdout",
     "output_type": "stream",
     "text": [
      "(0, '0.029*\"content\" + 0.029*\"amount\" + 0.029*\"great\" + 0.029*\"bug\" + 0.029*\"rebirth\" + 0.029*\"hopefully\" + 0.029*\"fixed\" + 0.029*\"expansion\" + 0.029*\"interesting\" + 0.029*\"back\" + 0.028*\"come\" + 0.007*\"yet\" + 0.007*\"fan\" + 0.007*\"like\" + 0.007*\"greed\"')\n",
      "(1, '0.046*\"и\" + 0.037*\"it\" + 0.037*\"afterbirth\" + 0.029*\"personally\" + 0.029*\"thought\" + 0.029*\"expensive\" + 0.029*\"nuevos\" + 0.029*\"un\" + 0.029*\"en\" + 0.029*\"в\" + 0.024*\"price\" + 0.021*\"rebirth\" + 0.021*\"dlc\" + 0.020*\"well\" + 0.020*\"fun\"')\n",
      "(2, '0.079*\"game\" + 0.070*\"new\" + 0.041*\"dlc\" + 0.026*\"item\" + 0.023*\"it\" + 0.022*\"rebirth\" + 0.020*\"mode\" + 0.017*\"much\" + 0.017*\"really\" + 0.017*\"one\" + 0.017*\"add\" + 0.017*\"time\" + 0.017*\"isaac\" + 0.017*\"great\" + 0.014*\"get\"')\n"
     ]
    }
   ],
   "source": [
    "ldamod = LdaModel(doc_term_matrix, num_topics=3, id2word = dictionary, passes=100)\n",
    "for topic in ldamod.print_topics(num_topics=10, num_words=15):\n",
    "    print(topic)"
   ]
  },
  {
   "cell_type": "code",
   "execution_count": 112,
   "metadata": {
    "collapsed": false
   },
   "outputs": [
    {
     "data": {
      "text/plain": [
       "[('content', 0.029287889511613117),\n",
       " ('amount', 0.029058563523957023),\n",
       " ('great', 0.029022104517062473),\n",
       " ('bug', 0.028772550704869986),\n",
       " ('rebirth', 0.028742719470609912),\n",
       " ('hopefully', 0.028595623294981783),\n",
       " ('fixed', 0.028595623288778956),\n",
       " ('expansion', 0.028593438837504061),\n",
       " ('interesting', 0.028583615117270644),\n",
       " ('back', 0.028583615112125569)]"
      ]
     },
     "execution_count": 112,
     "metadata": {},
     "output_type": "execute_result"
    }
   ],
   "source": [
    "ldamod.show_topic(0)"
   ]
  },
  {
   "cell_type": "code",
   "execution_count": 114,
   "metadata": {
    "collapsed": false
   },
   "outputs": [],
   "source": [
    "from gensim import similarities"
   ]
  },
  {
   "cell_type": "code",
   "execution_count": 115,
   "metadata": {
    "collapsed": false
   },
   "outputs": [
    {
     "ename": "ValueError",
     "evalue": "setting an array element with a sequence.",
     "output_type": "error",
     "traceback": [
      "\u001b[0;31m---------------------------------------------------------------------------\u001b[0m",
      "\u001b[0;31mValueError\u001b[0m                                Traceback (most recent call last)",
      "\u001b[0;32m<ipython-input-115-4406e0c7a637>\u001b[0m in \u001b[0;36m<module>\u001b[0;34m()\u001b[0m\n\u001b[1;32m      1\u001b[0m \u001b[0;32mfrom\u001b[0m \u001b[0msklearn\u001b[0m\u001b[0;34m.\u001b[0m\u001b[0mmetrics\u001b[0m\u001b[0;34m.\u001b[0m\u001b[0mpairwise\u001b[0m \u001b[0;32mimport\u001b[0m \u001b[0mcosine_similarity\u001b[0m\u001b[0;34m\u001b[0m\u001b[0m\n\u001b[0;32m----> 2\u001b[0;31m \u001b[0mdist\u001b[0m \u001b[0;34m=\u001b[0m \u001b[0;36m1\u001b[0m \u001b[0;34m-\u001b[0m \u001b[0mcosine_similarity\u001b[0m\u001b[0;34m(\u001b[0m\u001b[0mdoc_term_matrix\u001b[0m\u001b[0;34m)\u001b[0m\u001b[0;34m\u001b[0m\u001b[0m\n\u001b[0m\u001b[1;32m      3\u001b[0m \u001b[0mprint\u001b[0m\u001b[0;34m\u001b[0m\u001b[0m\n\u001b[1;32m      4\u001b[0m \u001b[0mprint\u001b[0m\u001b[0;34m\u001b[0m\u001b[0m\n",
      "\u001b[0;32m/Users/rickwolf/anaconda/envs/my_projects_env/lib/python3.5/site-packages/sklearn/metrics/pairwise.py\u001b[0m in \u001b[0;36mcosine_similarity\u001b[0;34m(X, Y, dense_output)\u001b[0m\n\u001b[1;32m    908\u001b[0m     \u001b[0;31m# to avoid recursive import\u001b[0m\u001b[0;34m\u001b[0m\u001b[0;34m\u001b[0m\u001b[0m\n\u001b[1;32m    909\u001b[0m \u001b[0;34m\u001b[0m\u001b[0m\n\u001b[0;32m--> 910\u001b[0;31m     \u001b[0mX\u001b[0m\u001b[0;34m,\u001b[0m \u001b[0mY\u001b[0m \u001b[0;34m=\u001b[0m \u001b[0mcheck_pairwise_arrays\u001b[0m\u001b[0;34m(\u001b[0m\u001b[0mX\u001b[0m\u001b[0;34m,\u001b[0m \u001b[0mY\u001b[0m\u001b[0;34m)\u001b[0m\u001b[0;34m\u001b[0m\u001b[0m\n\u001b[0m\u001b[1;32m    911\u001b[0m \u001b[0;34m\u001b[0m\u001b[0m\n\u001b[1;32m    912\u001b[0m     \u001b[0mX_normalized\u001b[0m \u001b[0;34m=\u001b[0m \u001b[0mnormalize\u001b[0m\u001b[0;34m(\u001b[0m\u001b[0mX\u001b[0m\u001b[0;34m,\u001b[0m \u001b[0mcopy\u001b[0m\u001b[0;34m=\u001b[0m\u001b[0;32mTrue\u001b[0m\u001b[0;34m)\u001b[0m\u001b[0;34m\u001b[0m\u001b[0m\n",
      "\u001b[0;32m/Users/rickwolf/anaconda/envs/my_projects_env/lib/python3.5/site-packages/sklearn/metrics/pairwise.py\u001b[0m in \u001b[0;36mcheck_pairwise_arrays\u001b[0;34m(X, Y, precomputed, dtype)\u001b[0m\n\u001b[1;32m    104\u001b[0m     \u001b[0;32mif\u001b[0m \u001b[0mY\u001b[0m \u001b[0;32mis\u001b[0m \u001b[0mX\u001b[0m \u001b[0;32mor\u001b[0m \u001b[0mY\u001b[0m \u001b[0;32mis\u001b[0m \u001b[0;32mNone\u001b[0m\u001b[0;34m:\u001b[0m\u001b[0;34m\u001b[0m\u001b[0m\n\u001b[1;32m    105\u001b[0m         X = Y = check_array(X, accept_sparse='csr', dtype=dtype,\n\u001b[0;32m--> 106\u001b[0;31m                             warn_on_dtype=warn_on_dtype, estimator=estimator)\n\u001b[0m\u001b[1;32m    107\u001b[0m     \u001b[0;32melse\u001b[0m\u001b[0;34m:\u001b[0m\u001b[0;34m\u001b[0m\u001b[0m\n\u001b[1;32m    108\u001b[0m         X = check_array(X, accept_sparse='csr', dtype=dtype,\n",
      "\u001b[0;32m/Users/rickwolf/anaconda/envs/my_projects_env/lib/python3.5/site-packages/sklearn/utils/validation.py\u001b[0m in \u001b[0;36mcheck_array\u001b[0;34m(array, accept_sparse, dtype, order, copy, force_all_finite, ensure_2d, allow_nd, ensure_min_samples, ensure_min_features, warn_on_dtype, estimator)\u001b[0m\n\u001b[1;32m    380\u001b[0m                                       force_all_finite)\n\u001b[1;32m    381\u001b[0m     \u001b[0;32melse\u001b[0m\u001b[0;34m:\u001b[0m\u001b[0;34m\u001b[0m\u001b[0m\n\u001b[0;32m--> 382\u001b[0;31m         \u001b[0marray\u001b[0m \u001b[0;34m=\u001b[0m \u001b[0mnp\u001b[0m\u001b[0;34m.\u001b[0m\u001b[0marray\u001b[0m\u001b[0;34m(\u001b[0m\u001b[0marray\u001b[0m\u001b[0;34m,\u001b[0m \u001b[0mdtype\u001b[0m\u001b[0;34m=\u001b[0m\u001b[0mdtype\u001b[0m\u001b[0;34m,\u001b[0m \u001b[0morder\u001b[0m\u001b[0;34m=\u001b[0m\u001b[0morder\u001b[0m\u001b[0;34m,\u001b[0m \u001b[0mcopy\u001b[0m\u001b[0;34m=\u001b[0m\u001b[0mcopy\u001b[0m\u001b[0;34m)\u001b[0m\u001b[0;34m\u001b[0m\u001b[0m\n\u001b[0m\u001b[1;32m    383\u001b[0m \u001b[0;34m\u001b[0m\u001b[0m\n\u001b[1;32m    384\u001b[0m         \u001b[0;32mif\u001b[0m \u001b[0mensure_2d\u001b[0m\u001b[0;34m:\u001b[0m\u001b[0;34m\u001b[0m\u001b[0m\n",
      "\u001b[0;31mValueError\u001b[0m: setting an array element with a sequence."
     ]
    }
   ],
   "source": [
    "from sklearn.metrics.pairwise import cosine_similarity\n",
    "dist = 1 - cosine_similarity(doc_term_matrix)\n",
    "print\n",
    "print"
   ]
  }
 ],
 "metadata": {
  "kernelspec": {
   "display_name": "Python [my_projects_env]",
   "language": "python",
   "name": "Python [my_projects_env]"
  },
  "language_info": {
   "codemirror_mode": {
    "name": "ipython",
    "version": 3
   },
   "file_extension": ".py",
   "mimetype": "text/x-python",
   "name": "python",
   "nbconvert_exporter": "python",
   "pygments_lexer": "ipython3",
   "version": "3.5.2"
  }
 },
 "nbformat": 4,
 "nbformat_minor": 2
}
