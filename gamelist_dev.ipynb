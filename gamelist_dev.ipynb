{
 "cells": [
  {
   "cell_type": "markdown",
   "metadata": {},
   "source": [
    "Dev notebook for scraping a list of PC games off of Metacritic. This list of games will get stored in a postgres table and be used later for scraping review data of each game."
   ]
  },
  {
   "cell_type": "code",
   "execution_count": 7,
   "metadata": {
    "collapsed": true
   },
   "outputs": [],
   "source": [
    "import urllib.request\n",
    "from bs4 import BeautifulSoup\n",
    "from datetime import datetime\n",
    "from time import sleep"
   ]
  },
  {
   "cell_type": "code",
   "execution_count": 8,
   "metadata": {
    "collapsed": false
   },
   "outputs": [],
   "source": [
    "user_agent = 'Mozilla/5.0 (Windows; U; Windows NT 5.1; en-US; rv:1.9.0.7) Gecko/2009021910 Firefox/3.0.7'\n",
    "url = \"http://www.metacritic.com/browse/games/release-date/available/pc/date?view=condensed&page=\" # iterate through page numbers\n",
    "headers={'User-Agent':user_agent,} \n",
    "\n",
    "request = urllib.request.Request(url,None,headers) #The assembled request\n",
    "data = urllib.request.urlopen(request).read()"
   ]
  },
  {
   "cell_type": "code",
   "execution_count": 14,
   "metadata": {
    "collapsed": true
   },
   "outputs": [],
   "source": [
    "def parse_game_titles(text_data):\n",
    "    \"\"\"\n",
    "    Retrieves all the info associated with each game from input text\n",
    "    \n",
    "    :param text_data: text from a single <li> tag with class 'product game_product'\n",
    "    :return: a dict of the form {url:game_url_tail, title:official_title}\n",
    "    \"\"\"\n",
    "    atag = text_data.find('a', href=True)\n",
    "    url_tail = atag['href']\n",
    "    title = atag.get_text().strip()\n",
    "    \n",
    "    return {'url':url_tail, 'title':title}\n",
    "    "
   ]
  },
  {
   "cell_type": "code",
   "execution_count": 15,
   "metadata": {
    "collapsed": true
   },
   "outputs": [],
   "source": [
    "def paginate_games(url, headers, pagelim = float('inf')):\n",
    "    \"\"\"\n",
    "    Loops through pages and returns a list of games on each page\n",
    "    \n",
    "    :param url: url with all text except the page number\n",
    "    :param headers: headers to include in the request\n",
    "    :param pagelim: how many pages to paginate through\n",
    "    \n",
    "    :return: a list of game names and their data\n",
    "    \"\"\"\n",
    "    \n",
    "    gamelist = []\n",
    "    i = 0\n",
    "    while i <= pagelim:\n",
    "        i += 1\n",
    "        request = urllib.request.Request(url + str(i), None, headers)\n",
    "        pagedata = urllib.request.urlopen(request).read()\n",
    "        soup = BeautifulSoup(pagedata, \"lxml\")\n",
    "        \n",
    "        games_in_page = soup.findAll('li', attrs={'class': 'product game_product'})\n",
    "        if not games_in_page:\n",
    "            print('Explored ' + str(i) + ' pages before stopping' )\n",
    "        \n",
    "        for game in games_in_page:\n",
    "            gamelist.append(parse_game_titles(game))\n",
    "        \n",
    "        sleep(2)\n",
    "    \n",
    "    return gamelist"
   ]
  },
  {
   "cell_type": "code",
   "execution_count": null,
   "metadata": {
    "collapsed": true
   },
   "outputs": [],
   "source": [
    "g = paginate_games(url, headers, 2)"
   ]
  },
  {
   "cell_type": "code",
   "execution_count": 13,
   "metadata": {
    "collapsed": false
   },
   "outputs": [
    {
     "data": {
      "text/plain": [
       "594"
      ]
     },
     "execution_count": 13,
     "metadata": {},
     "output_type": "execute_result"
    }
   ],
   "source": [
    "len(g)"
   ]
  }
 ],
 "metadata": {
  "anaconda-cloud": {},
  "kernelspec": {
   "display_name": "Python [my_projects_env]",
   "language": "python",
   "name": "Python [my_projects_env]"
  },
  "language_info": {
   "codemirror_mode": {
    "name": "ipython",
    "version": 3
   },
   "file_extension": ".py",
   "mimetype": "text/x-python",
   "name": "python",
   "nbconvert_exporter": "python",
   "pygments_lexer": "ipython3",
   "version": "3.5.2"
  }
 },
 "nbformat": 4,
 "nbformat_minor": 0
}
