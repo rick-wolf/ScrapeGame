{
 "cells": [
  {
   "cell_type": "markdown",
   "metadata": {},
   "source": [
    "Dev notebook for scraping a list of PC games off of Metacritic. This list of games will get stored in a postgres table and be used later for scraping review data of each game."
   ]
  },
  {
   "cell_type": "code",
   "execution_count": 6,
   "metadata": {
    "collapsed": true
   },
   "outputs": [],
   "source": [
    "import urllib.request\n",
    "from bs4 import BeautifulSoup\n",
    "from datetime import datetime\n",
    "from time import sleep"
   ]
  },
  {
   "cell_type": "code",
   "execution_count": 3,
   "metadata": {
    "collapsed": true
   },
   "outputs": [],
   "source": [
    "user_agent = 'Mozilla/5.0 (Windows; U; Windows NT 5.1; en-US; rv:1.9.0.7) Gecko/2009021910 Firefox/3.0.7'\n",
    "url = \"http://www.metacritic.com/browse/games/release-date/available/pc/date?view=condensed&page=\" # iterate through page numbers\n",
    "headers={'User-Agent':user_agent,} \n",
    "\n",
    "request = urllib.request.Request(url,None,headers) #The assembled request\n",
    "data = urllib.request.urlopen(request).read()"
   ]
  },
  {
   "cell_type": "code",
   "execution_count": null,
   "metadata": {
    "collapsed": true
   },
   "outputs": [],
   "source": [
    "def paginate_games(url, headers, pagelim):\n",
    "    \"\"\"\n",
    "    Loops through pages and returns a list of games on each page\n",
    "    \n",
    "    :param url: url with all text except the page number\n",
    "    :param headers: headers to include in the request\n",
    "    :param pagelim: how many pages to paginate through\n",
    "    \n",
    "    :return: a list of game names and their data\n",
    "    \"\"\"\n",
    "    \n",
    "    gamelist = []\n",
    "    for i in range(1,pagelim):\n",
    "        \n",
    "        request = urllib.request.Request(url, None, headers)\n",
    "        pagedata = urllib.request.urlopen(request).read()\n",
    "        soup = BeautifulSoup(pagedata, \"lxml\")\n",
    "        \n",
    "        games_in_page = soup.findAll('li', attrs={'class': 'product game_product'})\n",
    "        \n",
    "        # TODO\n",
    "        # use another function to parse games_in_page and return list of games + data\n",
    "        # append to gamelist\n",
    "        # wait a few seconds before moving on to next page\n",
    "    \n",
    "    \n",
    "    "
   ]
  },
  {
   "cell_type": "code",
   "execution_count": 4,
   "metadata": {
    "collapsed": true
   },
   "outputs": [],
   "source": [
    "soup = BeautifulSoup(data,\"lxml\")\n",
    "games = soup.findAll('li', attrs={'class': 'product game_product'})"
   ]
  },
  {
   "cell_type": "code",
   "execution_count": 5,
   "metadata": {
    "collapsed": false
   },
   "outputs": [
    {
     "data": {
      "text/plain": [
       "<li class=\"product game_product\">\n",
       "<div class=\"product_wrap\">\n",
       "<div class=\"basic_stat product_title\">\n",
       "<a href=\"/game/pc/davyria-heroes-of-eternity\">\n",
       "                            Davyria: Heroes of Eternity\n",
       "                                                    </a>\n",
       "</div>\n",
       "<div class=\"basic_stat product_score brief_metascore\">\n",
       "<div class=\"metascore_w small game tbd\">tbd</div>\n",
       "</div>\n",
       "<div class=\"more_stats condensed_stats\">\n",
       "<ul class=\"more_stats\">\n",
       "<li class=\"stat product_avguserscore\">\n",
       "<span class=\"label\">User:</span>\n",
       "<span class=\"data textscore textscore_tbd\">tbd</span>\n",
       "</li>\n",
       "<li class=\"stat release_date\">\n",
       "<span class=\"label\">Release Date:</span>\n",
       "<span class=\"data\">Mar  9</span>\n",
       "</li>\n",
       "</ul>\n",
       "</div>\n",
       "</div>\n",
       "</li>"
      ]
     },
     "execution_count": 5,
     "metadata": {},
     "output_type": "execute_result"
    }
   ],
   "source": [
    "games[0]"
   ]
  }
 ],
 "metadata": {
  "kernelspec": {
   "display_name": "Python [my_projects_env]",
   "language": "python",
   "name": "Python [my_projects_env]"
  },
  "language_info": {
   "codemirror_mode": {
    "name": "ipython",
    "version": 3
   },
   "file_extension": ".py",
   "mimetype": "text/x-python",
   "name": "python",
   "nbconvert_exporter": "python",
   "pygments_lexer": "ipython3",
   "version": "3.5.2"
  }
 },
 "nbformat": 4,
 "nbformat_minor": 0
}
